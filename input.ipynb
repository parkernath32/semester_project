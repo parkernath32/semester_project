{
 "cells": [
  {
   "cell_type": "code",
   "execution_count": 5,
   "metadata": {},
   "outputs": [
    {
     "name": "stdout",
     "output_type": "stream",
     "text": [
      "Enter your name\n"
     ]
    },
    {
     "name": "stdin",
     "output_type": "stream",
     "text": [
      " Nathaniel Parker\n",
      "Enter your name kofi\n"
     ]
    }
   ],
   "source": [
    "#Inputs from a user\n",
    "print(\"Enter your name\")\n",
    "name = input()\n",
    "\n",
    "#or this\n",
    "name2 = input(\"Enter your name\")"
   ]
  },
  {
   "cell_type": "code",
   "execution_count": null,
   "metadata": {},
   "outputs": [],
   "source": [
    " "
   ]
  },
  {
   "cell_type": "code",
   "execution_count": 2,
   "metadata": {},
   "outputs": [
    {
     "name": "stdin",
     "output_type": "stream",
     "text": [
      "Enter dry mass (g): 15\n",
      "Enter blank reading 6\n",
      "Enter first reading 23\n",
      "Enter second reading 15\n"
     ]
    },
    {
     "name": "stdout",
     "output_type": "stream",
     "text": [
      "sand:-53%. silt:53%. clay:100%\n"
     ]
    }
   ],
   "source": [
    "mass_drysoil = input(\"Enter dry mass (g):\")\n",
    "mass_drysoil = float(mass_drysoil)\n",
    "\n",
    "#request reading of blank\n",
    "blank_reading = float(input(\"Enter blank reading\"))\n",
    "first_reading = float(input(\"Enter first reading\"))\n",
    "second_reading = float(input(\"Enter second reading\"))\n",
    "\n",
    "sandcontent = round((mass_drysoil-first_reading)/mass_drysoil*100)\n",
    "claycontent = round(second_reading/mass_drysoil*100)\n",
    "siltcontent = 100-sandcontent-claycontent\n",
    "print('sand:{sandcontent}%. silt:{siltcontent}%. clay:{claycontent}%' \n",
    "      .format(sandcontent=sandcontent,siltcontent=siltcontent, claycontent=claycontent))\n",
    "#if the code doesnt work, check if the circle on the upper right corner (near python 3) is black, then restart your kernel\n",
    "#This is done by clicking the \"kernel tab\" at the upper left corner and select \"restart kernel\""
   ]
  },
  {
   "cell_type": "code",
   "execution_count": null,
   "metadata": {},
   "outputs": [],
   "source": []
  },
  {
   "cell_type": "code",
   "execution_count": null,
   "metadata": {},
   "outputs": [],
   "source": []
  }
 ],
 "metadata": {
  "kernelspec": {
   "display_name": "Python 3",
   "language": "python",
   "name": "python3"
  },
  "language_info": {
   "codemirror_mode": {
    "name": "ipython",
    "version": 3
   },
   "file_extension": ".py",
   "mimetype": "text/x-python",
   "name": "python",
   "nbconvert_exporter": "python",
   "pygments_lexer": "ipython3",
   "version": "3.7.4"
  }
 },
 "nbformat": 4,
 "nbformat_minor": 4
}
