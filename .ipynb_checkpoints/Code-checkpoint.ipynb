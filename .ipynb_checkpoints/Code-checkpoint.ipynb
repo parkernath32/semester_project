{
 "cells": [
  {
   "cell_type": "markdown",
   "metadata": {},
   "source": [
    "# Code for downloading rainfall data from NOAA radar"
   ]
  },
  {
   "cell_type": "code",
   "execution_count": 3,
   "metadata": {},
   "outputs": [],
   "source": [
    "# Import modules\n",
    "\n",
    "import glob\n",
    "import numpy as np\n",
    "import pandas as pd\n",
    "import matplotlib.pyplot as plt\n"
   ]
  },
  {
   "cell_type": "code",
   "execution_count": 4,
   "metadata": {},
   "outputs": [
    {
     "data": {
      "text/plain": [
       "'C:\\\\Users\\\\parkernath32\\\\Dropbox\\\\Nathaniel Parker\\\\KSU_Coursework\\\\Spring 2020\\\\Introduction to Scientific Programming\\\\semester_project'"
      ]
     },
     "execution_count": 4,
     "metadata": {},
     "output_type": "execute_result"
    }
   ],
   "source": [
    "# Obtain the current working directory\n",
    "\n",
    "glob.os.getcwd()"
   ]
  },
  {
   "cell_type": "code",
   "execution_count": 5,
   "metadata": {},
   "outputs": [
    {
     "name": "stdin",
     "output_type": "stream",
     "text": [
      "Enter station name Nebraska\n",
      "Enter latitude 41.357188\n",
      "Enter longitude -96.167989\n",
      "Enter data interval hour\n",
      "Enter start date in mm-dd-yyyy 4-4-20\n",
      "Enter end date in mm-dd-yyyy 4-5-20\n"
     ]
    }
   ],
   "source": [
    "# User inputs\n",
    "\n",
    "SOI = input('Enter station name')\n",
    "lat_SOI = float(input('Enter latitude'))\n",
    "lon_SOI = float(input('Enter longitude'))\n",
    "interval = input('Enter data interval')\n",
    "start =input('Enter start date in mm-dd-yyyy')\n",
    "end =input('Enter end date in mm-dd-yyyy')\n",
    "#email = input('Enter recipient email address')"
   ]
  },
  {
   "cell_type": "code",
   "execution_count": 12,
   "metadata": {},
   "outputs": [
    {
     "data": {
      "text/html": [
       "<div>\n",
       "<style scoped>\n",
       "    .dataframe tbody tr th:only-of-type {\n",
       "        vertical-align: middle;\n",
       "    }\n",
       "\n",
       "    .dataframe tbody tr th {\n",
       "        vertical-align: top;\n",
       "    }\n",
       "\n",
       "    .dataframe thead th {\n",
       "        text-align: right;\n",
       "    }\n",
       "</style>\n",
       "<table border=\"1\" class=\"dataframe\">\n",
       "  <thead>\n",
       "    <tr style=\"text-align: right;\">\n",
       "      <th></th>\n",
       "      <th>Radar_station</th>\n",
       "      <th>State</th>\n",
       "      <th>Latitude</th>\n",
       "      <th>Longitude</th>\n",
       "      <th>Elevation</th>\n",
       "      <th>NEXRAD_ID</th>\n",
       "      <th>Start_date</th>\n",
       "    </tr>\n",
       "  </thead>\n",
       "  <tbody>\n",
       "    <tr>\n",
       "      <td>0</td>\n",
       "      <td>Amarillo</td>\n",
       "      <td>TX</td>\n",
       "      <td>35.23333</td>\n",
       "      <td>-101.70889</td>\n",
       "      <td>1093.3</td>\n",
       "      <td>KAMA</td>\n",
       "      <td>8/4/1994</td>\n",
       "    </tr>\n",
       "    <tr>\n",
       "      <td>1</td>\n",
       "      <td>Denver Front Range Airport</td>\n",
       "      <td>CO</td>\n",
       "      <td>39.78667</td>\n",
       "      <td>-104.54528</td>\n",
       "      <td>1675.5</td>\n",
       "      <td>KFTG</td>\n",
       "      <td>5/9/1995</td>\n",
       "    </tr>\n",
       "    <tr>\n",
       "      <td>2</td>\n",
       "      <td>Des Moines</td>\n",
       "      <td>IA</td>\n",
       "      <td>41.73111</td>\n",
       "      <td>-93.72278</td>\n",
       "      <td>299.0</td>\n",
       "      <td>KDMX</td>\n",
       "      <td>5/9/1995</td>\n",
       "    </tr>\n",
       "    <tr>\n",
       "      <td>3</td>\n",
       "      <td>Dodge City</td>\n",
       "      <td>KS</td>\n",
       "      <td>37.76083</td>\n",
       "      <td>-99.96833</td>\n",
       "      <td>789.4</td>\n",
       "      <td>KDDC</td>\n",
       "      <td>1/1/1995</td>\n",
       "    </tr>\n",
       "    <tr>\n",
       "      <td>4</td>\n",
       "      <td>Fort Smith</td>\n",
       "      <td>AR</td>\n",
       "      <td>35.29056</td>\n",
       "      <td>-94.36167</td>\n",
       "      <td>NaN</td>\n",
       "      <td>KSRX</td>\n",
       "      <td>2/10/1997</td>\n",
       "    </tr>\n",
       "    <tr>\n",
       "      <td>5</td>\n",
       "      <td>Goodland</td>\n",
       "      <td>KS</td>\n",
       "      <td>39.36694</td>\n",
       "      <td>-101.70000</td>\n",
       "      <td>1112.8</td>\n",
       "      <td>KGLD</td>\n",
       "      <td>5/9/1995</td>\n",
       "    </tr>\n",
       "    <tr>\n",
       "      <td>6</td>\n",
       "      <td>Hastings</td>\n",
       "      <td>NE</td>\n",
       "      <td>40.32083</td>\n",
       "      <td>-98.44167</td>\n",
       "      <td>602.3</td>\n",
       "      <td>KUEX</td>\n",
       "      <td>4/11/1995</td>\n",
       "    </tr>\n",
       "    <tr>\n",
       "      <td>7</td>\n",
       "      <td>Kansas City</td>\n",
       "      <td>MO</td>\n",
       "      <td>38.81028</td>\n",
       "      <td>-94.26417</td>\n",
       "      <td>303.3</td>\n",
       "      <td>KEAX</td>\n",
       "      <td>5/9/1995</td>\n",
       "    </tr>\n",
       "    <tr>\n",
       "      <td>8</td>\n",
       "      <td>North Platte</td>\n",
       "      <td>NE</td>\n",
       "      <td>41.95778</td>\n",
       "      <td>-100.57583</td>\n",
       "      <td>905.3</td>\n",
       "      <td>KLNX</td>\n",
       "      <td>5/3/1996</td>\n",
       "    </tr>\n",
       "    <tr>\n",
       "      <td>9</td>\n",
       "      <td>Oklahoma City</td>\n",
       "      <td>OK</td>\n",
       "      <td>35.33306</td>\n",
       "      <td>-97.27750</td>\n",
       "      <td>369.7</td>\n",
       "      <td>KTLX</td>\n",
       "      <td>5/9/1995</td>\n",
       "    </tr>\n",
       "    <tr>\n",
       "      <td>10</td>\n",
       "      <td>Omaha</td>\n",
       "      <td>NE</td>\n",
       "      <td>41.32028</td>\n",
       "      <td>-96.36639</td>\n",
       "      <td>349.9</td>\n",
       "      <td>KOAX</td>\n",
       "      <td>6/27/1995</td>\n",
       "    </tr>\n",
       "    <tr>\n",
       "      <td>11</td>\n",
       "      <td>Pueblo</td>\n",
       "      <td>CO</td>\n",
       "      <td>38.45944</td>\n",
       "      <td>-104.18139</td>\n",
       "      <td>1599.9</td>\n",
       "      <td>KPUX</td>\n",
       "      <td>8/9/1995</td>\n",
       "    </tr>\n",
       "    <tr>\n",
       "      <td>12</td>\n",
       "      <td>Springfiled</td>\n",
       "      <td>MO</td>\n",
       "      <td>37.23528</td>\n",
       "      <td>-93.40028</td>\n",
       "      <td>389.5</td>\n",
       "      <td>KSGF</td>\n",
       "      <td>5/21/1995</td>\n",
       "    </tr>\n",
       "  </tbody>\n",
       "</table>\n",
       "</div>"
      ],
      "text/plain": [
       "                 Radar_station State  Latitude  Longitude  Elevation  \\\n",
       "0                     Amarillo    TX  35.23333 -101.70889     1093.3   \n",
       "1   Denver Front Range Airport    CO  39.78667 -104.54528     1675.5   \n",
       "2                   Des Moines    IA  41.73111  -93.72278      299.0   \n",
       "3                   Dodge City    KS  37.76083  -99.96833      789.4   \n",
       "4                   Fort Smith    AR  35.29056  -94.36167        NaN   \n",
       "5                     Goodland    KS  39.36694 -101.70000     1112.8   \n",
       "6                     Hastings    NE  40.32083  -98.44167      602.3   \n",
       "7                  Kansas City    MO  38.81028  -94.26417      303.3   \n",
       "8                 North Platte    NE  41.95778 -100.57583      905.3   \n",
       "9                Oklahoma City    OK  35.33306  -97.27750      369.7   \n",
       "10                       Omaha    NE  41.32028  -96.36639      349.9   \n",
       "11                      Pueblo    CO  38.45944 -104.18139     1599.9   \n",
       "12                 Springfiled    MO  37.23528  -93.40028      389.5   \n",
       "\n",
       "   NEXRAD_ID Start_date  \n",
       "0       KAMA   8/4/1994  \n",
       "1       KFTG   5/9/1995  \n",
       "2       KDMX   5/9/1995  \n",
       "3       KDDC   1/1/1995  \n",
       "4       KSRX  2/10/1997  \n",
       "5       KGLD   5/9/1995  \n",
       "6       KUEX  4/11/1995  \n",
       "7       KEAX   5/9/1995  \n",
       "8       KLNX   5/3/1996  \n",
       "9       KTLX   5/9/1995  \n",
       "10      KOAX  6/27/1995  \n",
       "11      KPUX   8/9/1995  \n",
       "12      KSGF  5/21/1995  "
      ]
     },
     "execution_count": 12,
     "metadata": {},
     "output_type": "execute_result"
    }
   ],
   "source": [
    "# Load the .csv file containing radar locations in Kansas\n",
    "\n",
    "radar = pd.read_csv('radars.csv')\n",
    "\n",
    "radar.head(13)\n",
    "#radar.tail()"
   ]
  },
  {
   "cell_type": "code",
   "execution_count": 7,
   "metadata": {},
   "outputs": [],
   "source": [
    "# Creating a Haversine function for computing the distance between two points on the earth's surface\n",
    "\n",
    "def haversine (lat1,lon1,lat2,lon2):\n",
    "    \" A Function for calculating the distance between two points on the earth's surface using the Haversine formula\"\n",
    "    \n",
    "    import math\n",
    "    \n",
    "    R = 6371000  # radius of the earth in meters\n",
    "    a = math.sin(math.radians((lat1-lat2)/2))**2 + math.cos(math.radians(lat1))*math.cos(math.radians(lat2))*math.sin(math.radians((lon1-lon2)/2))**2\n",
    "    b = 2* math.atan2(math.sqrt(a), math.sqrt(1-a))\n",
    "    d = round(R*b/1000,3) # converting the distance from m to km\n",
    "    return d\n",
    "    \n"
   ]
  },
  {
   "cell_type": "code",
   "execution_count": 8,
   "metadata": {},
   "outputs": [
    {
     "data": {
      "text/plain": [
       "[834.74,\n",
       " 728.471,\n",
       " 207.695,\n",
       " 515.692,\n",
       " 692.689,\n",
       " 518.193,\n",
       " 223.293,\n",
       " 326.226,\n",
       " 372.186,\n",
       " 676.786,\n",
       " 17.065,\n",
       " 755.229,\n",
       " 516.446,\n",
       " 262.505,\n",
       " 578.599,\n",
       " 540.443,\n",
       " 425.984]"
      ]
     },
     "execution_count": 8,
     "metadata": {},
     "output_type": "execute_result"
    }
   ],
   "source": [
    "# Calculating the distances between the station of interest (SOI) and selecting the nearest distance\n",
    "\n",
    "# Calculating the distance between the stations\n",
    "\n",
    "distances = []\n",
    "for i in range(len(radar)):\n",
    "    distances.append(haversine(lat_SOI,lon_SOI,radar.Latitude[i],radar.Longitude[i]))\n",
    "\n",
    "distances"
   ]
  },
  {
   "cell_type": "code",
   "execution_count": 13,
   "metadata": {},
   "outputs": [
    {
     "name": "stdout",
     "output_type": "stream",
     "text": [
      "idx: 10\n",
      "nearest distance: 17.065\n",
      "nearest radar: Omaha\n",
      "nearest station coordinates: [41.32028, -96.36639]\n"
     ]
    }
   ],
   "source": [
    "# Select the nearest radar station to SOI and its geographic coordinates\n",
    "\n",
    "for i in range(len(distances)):\n",
    "    if distances[i] == min(distances):\n",
    "        idx_nearest = i\n",
    "        nearest_distance = distances[i]\n",
    "        nearest_name = radar.Radar_station[i]\n",
    "        nearest_coordinates = [radar.Latitude[i], radar.Longitude[i]]\n",
    "        \n",
    "\n",
    "print('idx:',idx_nearest)\n",
    "print('nearest distance:', nearest_distance,'km')\n",
    "print('nearest radar:', nearest_name)\n",
    "print('nearest station coordinates:',nearest_coordinates)"
   ]
  },
  {
   "cell_type": "code",
   "execution_count": 342,
   "metadata": {},
   "outputs": [
    {
     "data": {
      "text/plain": [
       "38.22"
      ]
     },
     "execution_count": 342,
     "metadata": {},
     "output_type": "execute_result"
    }
   ],
   "source": [
    "\n"
   ]
  },
  {
   "cell_type": "code",
   "execution_count": null,
   "metadata": {},
   "outputs": [],
   "source": []
  },
  {
   "cell_type": "code",
   "execution_count": null,
   "metadata": {},
   "outputs": [],
   "source": []
  },
  {
   "cell_type": "code",
   "execution_count": 251,
   "metadata": {},
   "outputs": [],
   "source": []
  },
  {
   "cell_type": "code",
   "execution_count": 271,
   "metadata": {},
   "outputs": [],
   "source": [
    "\n"
   ]
  },
  {
   "cell_type": "code",
   "execution_count": null,
   "metadata": {},
   "outputs": [],
   "source": []
  },
  {
   "cell_type": "code",
   "execution_count": null,
   "metadata": {},
   "outputs": [],
   "source": [
    "\n"
   ]
  },
  {
   "cell_type": "code",
   "execution_count": null,
   "metadata": {},
   "outputs": [],
   "source": []
  },
  {
   "cell_type": "code",
   "execution_count": null,
   "metadata": {},
   "outputs": [],
   "source": []
  },
  {
   "cell_type": "code",
   "execution_count": null,
   "metadata": {},
   "outputs": [],
   "source": []
  },
  {
   "cell_type": "code",
   "execution_count": null,
   "metadata": {},
   "outputs": [],
   "source": []
  },
  {
   "cell_type": "code",
   "execution_count": null,
   "metadata": {},
   "outputs": [],
   "source": []
  }
 ],
 "metadata": {
  "kernelspec": {
   "display_name": "Python 3",
   "language": "python",
   "name": "python3"
  },
  "language_info": {
   "codemirror_mode": {
    "name": "ipython",
    "version": 3
   },
   "file_extension": ".py",
   "mimetype": "text/x-python",
   "name": "python",
   "nbconvert_exporter": "python",
   "pygments_lexer": "ipython3",
   "version": "3.7.4"
  }
 },
 "nbformat": 4,
 "nbformat_minor": 4
}
