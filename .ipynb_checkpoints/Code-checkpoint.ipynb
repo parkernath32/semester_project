{
 "cells": [
  {
   "cell_type": "markdown",
   "metadata": {},
   "source": [
    "# A code for retrieving rainfall measurement at any given location from Gridded rainfall products\n",
    "##### The objective of this project is to retrieve rainfall reading at any given location from gridded rainfall products using the latitude and longitude of that location. The code computes the distances between the location of interest (LOI) and the map coordinates, and then select the rainfall of the closest location to LOI as the rainfall at LOI. The gridded product can be in either hourly, daily, monthly, or yearly time intervals. \n",
    "##### A single rainfall map (in GeoTiff format) for the last 365 days (before April 26, 2020) for contiguous USA from the National Weather Service's (NWS) multi-sensor gridded rainfall product, which was downloaded via https://water.weather.gov/precip/download.php was used as an example data file to set up this code. However, the code should be compatible with any GeoTiff file from any other source. In addition, the code can be easily modified to process multiple maps (i.e. stacked maps). "
   ]
  },
  {
   "cell_type": "markdown",
   "metadata": {},
   "source": [
    "#### Required packages:\n",
    "##### Rasterio: Install the rasterio module using the command line, \"conda install rasterio\". An alternate command is \"!pip install rasterio\". \n",
    "\n"
   ]
  },
  {
   "cell_type": "markdown",
   "metadata": {},
   "source": [
    "#### Import the modules"
   ]
  },
  {
   "cell_type": "code",
   "execution_count": null,
   "metadata": {},
   "outputs": [],
   "source": [
    "# Import modules\n",
    "\n",
    "import glob\n",
    "import numpy as np\n",
    "import math\n",
    "import matplotlib.pyplot as plt\n",
    "import rasterio\n",
    "from rasterio.warp import calculate_default_transform, reproject, Resampling\n"
   ]
  },
  {
   "cell_type": "code",
   "execution_count": null,
   "metadata": {},
   "outputs": [],
   "source": [
    "# Obtain the current working directory\n",
    "# This line of code does not play any major role in the project other than ensuring that we are working in the right directory.\n",
    "\n",
    "glob.os.getcwd()\n"
   ]
  },
  {
   "cell_type": "markdown",
   "metadata": {},
   "source": [
    "\n",
    "#### User inputs:\n",
    "##### 1. Name of the station of interest (LOI)\n",
    "##### 2. Latitude of LOI\n",
    "##### 3. Longitude of LOI\n"
   ]
  },
  {
   "cell_type": "code",
   "execution_count": null,
   "metadata": {},
   "outputs": [],
   "source": [
    "# User inputs\n",
    "\n",
    "LOI = input('Enter location name')\n",
    "lat_LOI = float(input('Enter latitude'))\n",
    "lon_LOI = float(input('Enter longitude'))\n"
   ]
  },
  {
   "cell_type": "markdown",
   "metadata": {},
   "source": [
    "#### Define Haversine function to calculate the distance between two locations\n",
    "##### The Haversine formula calculates the great-circle distance (i.e. the shortest distance between two points on a spherical surface) between two points over the earth’s surface given their latitudes and longitudes. The computed distance is measured along the surface of the sphere (as opposed to a straight line through the sphere's interior) and ignores any hills they fly over. \n",
    "\n",
    "##### Haversine formula:\n",
    "##### a = sin²(Δφ/2) + cos φ1 ⋅ cos φ2 ⋅ sin²(Δλ/2)\n",
    "##### b = 2 ⋅ atan2( √a, √(1−a) )\n",
    "##### d = R ⋅ c\n",
    "##### where\tφ1 and φ2 are the latitudes of the two points, Δφ is difference between the latitudes, λ1 and λ1 are the longitudes,  and R is the earth’s radius (mean radius = 6,371,000 m). \n",
    "##### 'a' should range between 0 and 1, else the code will throw an error message for both a and b, when a < 0 or a > = 1. This is because b depends on  √a and √(1−a) of which the math module cannot handle the square-root of negative values. \n",
    "##### Note: The angles must be in radians to pass to trig functions.  \n",
    "##### The function below returns the distance, d in kilometers and the corresponding row and column (row_col) where that distance is located on the map. The rows and columns are useful in the subsequent steps for identifying the grid cell containing the closest location to the point of interest."
   ]
  },
  {
   "cell_type": "code",
   "execution_count": null,
   "metadata": {},
   "outputs": [],
   "source": [
    "# Creating a Haversine function for computing the distance between two points on the earth's surface\n",
    "\n",
    "def haversine (lat1,lon1,lat2,lon2):\n",
    "    \n",
    "    \" A Function for calculating the distance between two points on the earth's surface using the Haversine formula\"\n",
    "    \"The output unit of the distance is in kilometers (km)\"\n",
    "    \n",
    "    R = 6371000  # radius of the earth in meters\n",
    "    a = math.sin(math.radians((lat1-lat2)/2))**2 + math.cos(math.radians(lat1))*math.cos(math.radians(lat2))*math.sin(math.radians((lon1-lon2)/2))**2\n",
    "    \n",
    "    if a < 0:\n",
    "        print('row',row,'col',col,':', 'Error: sqrt(a) is undefined, a is negative')\n",
    "    elif a >= 1:\n",
    "        print('row',row,'col',col,':', 'Error: sqrt(1-a) is undefined, a is > or = 1')\n",
    "    else:\n",
    "        b = 2* math.atan2(math.sqrt(a), math.sqrt(1-a))\n",
    "        row_col = (row,col) # row and column\n",
    "        d = round(R*b/1000,3) # converting the distance from m to km\n",
    "        return d, row_col\n",
    "    "
   ]
  },
  {
   "cell_type": "markdown",
   "metadata": {},
   "source": [
    "#### Open the gridded map in python\n",
    "##### It is very important to explore the data information (metadata) of the map after opening to determine whether any component of the data needs to be modified. For instance, knowing the coordinate reference system (CRS) of the data is important in interpreting how locations are represented on the map. It also helps to determine whether to change the CRS into latitude and longitudes for the computation of distances between LOI and the location points on the map."
   ]
  },
  {
   "cell_type": "code",
   "execution_count": null,
   "metadata": {},
   "outputs": [],
   "source": [
    "# Load the GeoTiff file and explore the data information\n",
    "\n",
    "data_file = 'nws_precip_last365days_20200426_conus.tif'\n",
    "data = rasterio.open(data_file)\n",
    "data.meta\n"
   ]
  },
  {
   "cell_type": "markdown",
   "metadata": {},
   "source": [
    "#### Create a function to convert the coordinate reference system (CRS) of the uploaded map\n",
    "##### This function creates a new map (.Tiff file) with the coordinates in latitudes and longitudes if the original map is not in geographic coordinates of latitude and longitude. The map coordinates needs be in longitudes and latitudes to allow the computation of distances using the Haversine function. However, this step can be ignored if the geographic coordinates of the original map are already in latitudes and longitudes as the Haversine function can be applied straightaway. \n",
    "##### Required Inputs of the function:\n",
    "##### 1. inpath: The name or path of the uploaded original map.\n",
    "##### 2. outpath: The name or path of the new file to be created.\n",
    "##### 3. new_crs: the new coordinate reference system."
   ]
  },
  {
   "cell_type": "code",
   "execution_count": null,
   "metadata": {},
   "outputs": [],
   "source": [
    "# Create a function to convert the coordinates reference system of the data file \n",
    "\n",
    "def convert(inpath, outpath, new_crs):\n",
    "    \n",
    "    'A function to convert a raster from one coordinate system to another coordinate system. This function will load back into into python the new file created'\n",
    "    'Definition of inputs: inpath = name of the file which is to be converted'\n",
    "    'outpath = name of the new file after the conversion'  \n",
    "    'new_crs = the new refrence system you want'\n",
    "   \n",
    "    dst_crs = new_crs # CRS for web meractor \n",
    "\n",
    "    with rasterio.open(inpath) as src:\n",
    "        transform, width, height = calculate_default_transform(\n",
    "            src.crs, dst_crs, src.width, src.height, *src.bounds)\n",
    "        kwargs = src.meta.copy()\n",
    "        kwargs.update({\n",
    "            'crs': dst_crs,\n",
    "            'transform': transform,\n",
    "            'width': width,\n",
    "            'height': height\n",
    "        })\n",
    "\n",
    "        with rasterio.open(outpath, 'w', **kwargs) as dst:\n",
    "            for i in range(1, src.count + 1):\n",
    "                reproject(\n",
    "                    source=rasterio.band(src, i),\n",
    "                    destination=rasterio.band(dst, i),\n",
    "                    src_transform=src.transform,\n",
    "                    src_crs=src.crs,\n",
    "                    dst_transform=transform,\n",
    "                    dst_crs=dst_crs,\n",
    "                    resampling=Resampling.nearest)\n",
    "                "
   ]
  },
  {
   "cell_type": "markdown",
   "metadata": {},
   "source": [
    "#### Convert the CRS of the map using the function above\n",
    "##### The NWS gridded map is in Polar Stereographic CRS (EPSG: 9001) with the units in meters so this function was used to convert the CRS from EPSG: 9001 to EPSG: 4326 (in latitude and longitude) as shown in the next step below. \n"
   ]
  },
  {
   "cell_type": "code",
   "execution_count": null,
   "metadata": {},
   "outputs": [],
   "source": [
    "# Call the function to convert the map from EPSG: 9001 to EPSG: 4326\n",
    "\n",
    "new_crs = 'EPSG:4326'\n",
    "inpath = data_file\n",
    "outpath = 'data_new.tif'\n",
    "convert(inpath,outpath,new_crs)\n"
   ]
  },
  {
   "cell_type": "markdown",
   "metadata": {},
   "source": [
    "##### Note that you have to open the newly created map in python to continue with the next steps. Also, it is important to check the metadata of the new map to verify that it is in the desired CRS as shown below. "
   ]
  },
  {
   "cell_type": "code",
   "execution_count": null,
   "metadata": {},
   "outputs": [],
   "source": [
    "# open the new file with the converted coordinate reference system in python\n",
    "\n",
    "data = rasterio.open(outpath) \n",
    "print(data.meta)\n"
   ]
  },
  {
   "cell_type": "markdown",
   "metadata": {},
   "source": [
    "#### Create a three-dimensinal array of Not a Number values (NaNs)\n",
    "##### This will be used to append the rainfall data for areas within the contiguous US"
   ]
  },
  {
   "cell_type": "code",
   "execution_count": null,
   "metadata": {},
   "outputs": [],
   "source": [
    "# Create 3D array filled with NaNs \n",
    "\n",
    "row = data.shape[0]\n",
    "col = data.shape[1]\n",
    "new_file = [file for file in glob.glob(\"data_new.tif\")]\n",
    "rainfall_3d = np.ones([row,col,len(new_file)]) * np.nan \n"
   ]
  },
  {
   "cell_type": "markdown",
   "metadata": {},
   "source": [
    "#### Append the the rainfall data of areas within US"
   ]
  },
  {
   "cell_type": "code",
   "execution_count": null,
   "metadata": {},
   "outputs": [],
   "source": [
    "# Append rainfall to build a 3D array\n",
    "\n",
    "rainfall = data.read(1)  # band 1 contains the observed rainfall\n",
    "idx_no_us = data.read(1)<0  # identify areas outside the US\n",
    "rainfall[idx_no_us] = np.nan  # convert values for areas outside the US to NaNs\n",
    "rainfall_3d[:,:,0] = rainfall # append the rainfall data\n",
    "rainfall_3d.shape\n",
    "\n",
    "rainfall_mm = rainfall_3d * 25.4 \n",
    "rainfall_mm[600,800]"
   ]
  },
  {
   "cell_type": "markdown",
   "metadata": {},
   "source": [
    "#### Compute and convert the rainfall for each pixel from inches to mm"
   ]
  },
  {
   "cell_type": "code",
   "execution_count": null,
   "metadata": {},
   "outputs": [],
   "source": [
    "# Compute cumulative rainfall for each single pixel\n",
    "\n",
    "#cum_rainfall = np.nansum(rainfall_3d, axis=2) # rainfall in inches\n",
    "#cum_rainfall = cum_rainfall * 25.4  # inches to millimeters\n",
    "\n",
    "# Inspect rainfall in some of the pixels\n",
    "#cum_rainfall[600,800]\n"
   ]
  },
  {
   "cell_type": "code",
   "execution_count": null,
   "metadata": {},
   "outputs": [],
   "source": [
    "# Set to `NaN` all the pixels that are outside the PRISM US boundaries and are equal to zero\n",
    "\n",
    "#cum_rainfall[idx_no_us | (cum_rainfall == 0)] = np.nan\n"
   ]
  },
  {
   "cell_type": "code",
   "execution_count": null,
   "metadata": {},
   "outputs": [],
   "source": [
    "# Compute the distance between LOI and the varous coordinates of the map \n",
    "\n",
    "# minimum_distance = 100000000000\n",
    "distances = [] # in km\n",
    "for row in range(data.shape[0]):\n",
    "    for col in range(data.shape[1]):\n",
    "        latlon = data.xy(row,col)\n",
    "        distances.append(haversine(lat_LOI,lon_LOI,latlon[1],latlon[0]))\n",
    "             "
   ]
  },
  {
   "cell_type": "code",
   "execution_count": null,
   "metadata": {},
   "outputs": [],
   "source": [
    "# Inspect the distances computed\n",
    "\n",
    "print(latlon[1],latlon[0])\n",
    "distances[1]\n"
   ]
  },
  {
   "cell_type": "markdown",
   "metadata": {},
   "source": [
    "##### In the next cell, we will find the closest distance to the location of interest (LOI). We take a first guess of the minimum distance"
   ]
  },
  {
   "cell_type": "code",
   "execution_count": null,
   "metadata": {},
   "outputs": [],
   "source": [
    "# Identifying the closest distance to LOI\n",
    "\n",
    "minimum_distance = int(distances[0][0]) # Guess minimum distance\n",
    "c = 0  # Guess minimum distance \n",
    "for i in range(1,len(distances)):\n",
    "    a = distances[i][0]\n",
    "    b = distances[i-1][0]\n",
    "    \n",
    "    if a < b:\n",
    "        c = a\n",
    "        if c < minimum_distance:\n",
    "            minimum_distance = distances[i][0]\n",
    "            row_col = distances[i][1]\n",
    "    else:\n",
    "        c = b\n",
    "        if c < minimum_distance:\n",
    "            minimum_distance = distances[i][0]\n",
    "            row_col = distances[i][1]\n",
    "        \n",
    "print('closest distance: ',minimum_distance,'km')  \n",
    "print('corresponding row and column',row_col)\n",
    "print('closest station coordinates', data.xy(row_col[0],row_col[1]))\n"
   ]
  },
  {
   "cell_type": "code",
   "execution_count": null,
   "metadata": {},
   "outputs": [],
   "source": [
    "# Retrieve rainfall measurement at the nearest station\n",
    "\n",
    "#rainfall_amount = np.nansum(cum_rainfall[row_col])\n",
    "rainfall_amount = rainfall_mm[row_col]\n",
    "\n",
    "print('The rainfall in',LOI, 'is:', round(float(rainfall_amount),2),'mm')\n"
   ]
  },
  {
   "cell_type": "code",
   "execution_count": null,
   "metadata": {},
   "outputs": [],
   "source": [
    "# Plot Map of cummulative rainfall\n",
    "\n",
    "plt.figure(figsize=(8,8))\n",
    "plt.imshow(cum_rainfall, aspect='auto')\n",
    "plt.colorbar(orientation=\"horizontal\", pad=0.1, aspect=50, label=\"Cumulative Rainfall (mm)\")\n",
    "plt.scatter(row_col[1],row_col[0], marker='*', color='r', s=100)\n",
    "plt.gca().axes.get_xaxis().set_visible(True)\n",
    "plt.gca().axes.get_yaxis().set_visible(True)\n",
    "plt.show()\n"
   ]
  },
  {
   "cell_type": "code",
   "execution_count": null,
   "metadata": {},
   "outputs": [],
   "source": []
  }
 ],
 "metadata": {
  "kernelspec": {
   "display_name": "Python 3",
   "language": "python",
   "name": "python3"
  },
  "language_info": {
   "codemirror_mode": {
    "name": "ipython",
    "version": 3
   },
   "file_extension": ".py",
   "mimetype": "text/x-python",
   "name": "python",
   "nbconvert_exporter": "python",
   "pygments_lexer": "ipython3",
   "version": "3.7.4"
  }
 },
 "nbformat": 4,
 "nbformat_minor": 4
}
