{
 "cells": [
  {
   "cell_type": "markdown",
   "metadata": {},
   "source": [
    "# Code for downloading rainfall data from NOAA radar"
   ]
  },
  {
   "cell_type": "markdown",
   "metadata": {},
   "source": [
    "##### Note: Install the rasterio module using the command line, \"conda install rasterio\"\n",
    "\n"
   ]
  },
  {
   "cell_type": "code",
   "execution_count": 360,
   "metadata": {},
   "outputs": [],
   "source": [
    "# Import modules\n",
    "import os\n",
    "import glob\n",
    "import numpy as np\n",
    "import pandas as pd\n",
    "import matplotlib.pyplot as plt\n",
    "import rasterio\n",
    "#from rasterio import features as ft\n",
    "from rasterio.warp import calculate_default_transform, reproject, Resampling\n"
   ]
  },
  {
   "cell_type": "code",
   "execution_count": 250,
   "metadata": {},
   "outputs": [
    {
     "data": {
      "text/plain": [
       "'C:\\\\Users\\\\parkernath32\\\\Dropbox\\\\Nathaniel Parker\\\\KSU_Coursework\\\\Spring 2020\\\\Introduction to Scientific Programming\\\\semester_project'"
      ]
     },
     "execution_count": 250,
     "metadata": {},
     "output_type": "execute_result"
    }
   ],
   "source": [
    "# Obtain the current working directory\n",
    "\n",
    "glob.os.getcwd()\n"
   ]
  },
  {
   "cell_type": "code",
   "execution_count": 252,
   "metadata": {},
   "outputs": [
    {
     "name": "stdin",
     "output_type": "stream",
     "text": [
      "Enter station name \n",
      "Enter latitude 39\n",
      "Enter longitude -98\n",
      "Enter data interval \n",
      "Enter start date in mm-dd-yyyy \n",
      "Enter end date in mm-dd-yyyy \n"
     ]
    }
   ],
   "source": [
    "# User inputs\n",
    "\n",
    "SOI = input('Enter station name')\n",
    "lat_SOI = float(input('Enter latitude'))\n",
    "lon_SOI = float(input('Enter longitude'))\n",
    "interval = input('Enter data interval')\n",
    "start =input('Enter start date in mm-dd-yyyy')\n",
    "end =input('Enter end date in mm-dd-yyyy')\n",
    "#email = input('Enter recipient email address')"
   ]
  },
  {
   "cell_type": "code",
   "execution_count": 253,
   "metadata": {},
   "outputs": [
    {
     "data": {
      "text/html": [
       "<div>\n",
       "<style scoped>\n",
       "    .dataframe tbody tr th:only-of-type {\n",
       "        vertical-align: middle;\n",
       "    }\n",
       "\n",
       "    .dataframe tbody tr th {\n",
       "        vertical-align: top;\n",
       "    }\n",
       "\n",
       "    .dataframe thead th {\n",
       "        text-align: right;\n",
       "    }\n",
       "</style>\n",
       "<table border=\"1\" class=\"dataframe\">\n",
       "  <thead>\n",
       "    <tr style=\"text-align: right;\">\n",
       "      <th></th>\n",
       "      <th>Radar_station</th>\n",
       "      <th>State</th>\n",
       "      <th>Latitude</th>\n",
       "      <th>Longitude</th>\n",
       "      <th>Elevation</th>\n",
       "      <th>NEXRAD_ID</th>\n",
       "      <th>Start_date</th>\n",
       "    </tr>\n",
       "  </thead>\n",
       "  <tbody>\n",
       "    <tr>\n",
       "      <td>0</td>\n",
       "      <td>Amarillo</td>\n",
       "      <td>TX</td>\n",
       "      <td>35.23333</td>\n",
       "      <td>-101.70889</td>\n",
       "      <td>1093.3</td>\n",
       "      <td>KAMA</td>\n",
       "      <td>8/4/1994</td>\n",
       "    </tr>\n",
       "    <tr>\n",
       "      <td>1</td>\n",
       "      <td>Denver Front Range Airport</td>\n",
       "      <td>CO</td>\n",
       "      <td>39.78667</td>\n",
       "      <td>-104.54528</td>\n",
       "      <td>1675.5</td>\n",
       "      <td>KFTG</td>\n",
       "      <td>5/9/1995</td>\n",
       "    </tr>\n",
       "    <tr>\n",
       "      <td>2</td>\n",
       "      <td>Des Moines</td>\n",
       "      <td>IA</td>\n",
       "      <td>41.73111</td>\n",
       "      <td>-93.72278</td>\n",
       "      <td>299.0</td>\n",
       "      <td>KDMX</td>\n",
       "      <td>5/9/1995</td>\n",
       "    </tr>\n",
       "    <tr>\n",
       "      <td>3</td>\n",
       "      <td>Dodge City</td>\n",
       "      <td>KS</td>\n",
       "      <td>37.76083</td>\n",
       "      <td>-99.96833</td>\n",
       "      <td>789.4</td>\n",
       "      <td>KDDC</td>\n",
       "      <td>1/1/1995</td>\n",
       "    </tr>\n",
       "    <tr>\n",
       "      <td>4</td>\n",
       "      <td>Fort Smith</td>\n",
       "      <td>AR</td>\n",
       "      <td>35.29056</td>\n",
       "      <td>-94.36167</td>\n",
       "      <td>NaN</td>\n",
       "      <td>KSRX</td>\n",
       "      <td>2/10/1997</td>\n",
       "    </tr>\n",
       "    <tr>\n",
       "      <td>5</td>\n",
       "      <td>Goodland</td>\n",
       "      <td>KS</td>\n",
       "      <td>39.36694</td>\n",
       "      <td>-101.70000</td>\n",
       "      <td>1112.8</td>\n",
       "      <td>KGLD</td>\n",
       "      <td>5/9/1995</td>\n",
       "    </tr>\n",
       "    <tr>\n",
       "      <td>6</td>\n",
       "      <td>Hastings</td>\n",
       "      <td>NE</td>\n",
       "      <td>40.32083</td>\n",
       "      <td>-98.44167</td>\n",
       "      <td>602.3</td>\n",
       "      <td>KUEX</td>\n",
       "      <td>4/11/1995</td>\n",
       "    </tr>\n",
       "    <tr>\n",
       "      <td>7</td>\n",
       "      <td>Kansas City</td>\n",
       "      <td>MO</td>\n",
       "      <td>38.81028</td>\n",
       "      <td>-94.26417</td>\n",
       "      <td>303.3</td>\n",
       "      <td>KEAX</td>\n",
       "      <td>5/9/1995</td>\n",
       "    </tr>\n",
       "    <tr>\n",
       "      <td>8</td>\n",
       "      <td>North Platte</td>\n",
       "      <td>NE</td>\n",
       "      <td>41.95778</td>\n",
       "      <td>-100.57583</td>\n",
       "      <td>905.3</td>\n",
       "      <td>KLNX</td>\n",
       "      <td>5/3/1996</td>\n",
       "    </tr>\n",
       "    <tr>\n",
       "      <td>9</td>\n",
       "      <td>Oklahoma City</td>\n",
       "      <td>OK</td>\n",
       "      <td>35.33306</td>\n",
       "      <td>-97.27750</td>\n",
       "      <td>369.7</td>\n",
       "      <td>KTLX</td>\n",
       "      <td>5/9/1995</td>\n",
       "    </tr>\n",
       "    <tr>\n",
       "      <td>10</td>\n",
       "      <td>Omaha</td>\n",
       "      <td>NE</td>\n",
       "      <td>41.32028</td>\n",
       "      <td>-96.36639</td>\n",
       "      <td>349.9</td>\n",
       "      <td>KOAX</td>\n",
       "      <td>6/27/1995</td>\n",
       "    </tr>\n",
       "    <tr>\n",
       "      <td>11</td>\n",
       "      <td>Pueblo</td>\n",
       "      <td>CO</td>\n",
       "      <td>38.45944</td>\n",
       "      <td>-104.18139</td>\n",
       "      <td>1599.9</td>\n",
       "      <td>KPUX</td>\n",
       "      <td>8/9/1995</td>\n",
       "    </tr>\n",
       "    <tr>\n",
       "      <td>12</td>\n",
       "      <td>Springfiled</td>\n",
       "      <td>MO</td>\n",
       "      <td>37.23528</td>\n",
       "      <td>-93.40028</td>\n",
       "      <td>389.5</td>\n",
       "      <td>KSGF</td>\n",
       "      <td>5/21/1995</td>\n",
       "    </tr>\n",
       "  </tbody>\n",
       "</table>\n",
       "</div>"
      ],
      "text/plain": [
       "                 Radar_station State  Latitude  Longitude  Elevation  \\\n",
       "0                     Amarillo    TX  35.23333 -101.70889     1093.3   \n",
       "1   Denver Front Range Airport    CO  39.78667 -104.54528     1675.5   \n",
       "2                   Des Moines    IA  41.73111  -93.72278      299.0   \n",
       "3                   Dodge City    KS  37.76083  -99.96833      789.4   \n",
       "4                   Fort Smith    AR  35.29056  -94.36167        NaN   \n",
       "5                     Goodland    KS  39.36694 -101.70000     1112.8   \n",
       "6                     Hastings    NE  40.32083  -98.44167      602.3   \n",
       "7                  Kansas City    MO  38.81028  -94.26417      303.3   \n",
       "8                 North Platte    NE  41.95778 -100.57583      905.3   \n",
       "9                Oklahoma City    OK  35.33306  -97.27750      369.7   \n",
       "10                       Omaha    NE  41.32028  -96.36639      349.9   \n",
       "11                      Pueblo    CO  38.45944 -104.18139     1599.9   \n",
       "12                 Springfiled    MO  37.23528  -93.40028      389.5   \n",
       "\n",
       "   NEXRAD_ID Start_date  \n",
       "0       KAMA   8/4/1994  \n",
       "1       KFTG   5/9/1995  \n",
       "2       KDMX   5/9/1995  \n",
       "3       KDDC   1/1/1995  \n",
       "4       KSRX  2/10/1997  \n",
       "5       KGLD   5/9/1995  \n",
       "6       KUEX  4/11/1995  \n",
       "7       KEAX   5/9/1995  \n",
       "8       KLNX   5/3/1996  \n",
       "9       KTLX   5/9/1995  \n",
       "10      KOAX  6/27/1995  \n",
       "11      KPUX   8/9/1995  \n",
       "12      KSGF  5/21/1995  "
      ]
     },
     "execution_count": 253,
     "metadata": {},
     "output_type": "execute_result"
    }
   ],
   "source": [
    "# Load the .csv file containing radar locations in Kansas\n",
    "\n",
    "radar = pd.read_csv('radars.csv')\n",
    "\n",
    "radar.head(13)\n",
    "#radar.tail()"
   ]
  },
  {
   "cell_type": "code",
   "execution_count": 314,
   "metadata": {},
   "outputs": [],
   "source": [
    "# Creating a Haversine function for computing the distance between two points on the earth's surface\n",
    "\n",
    "def haversine (lat1,lon1,lat2,lon2):\n",
    "    \" A Function for calculating the distance between two points on the earth's surface using the Haversine formula\"\n",
    "    \n",
    "    import math\n",
    "    \n",
    "    R = 6371000  # radius of the earth in meters\n",
    "    a = math.sin(math.radians((lat1-lat2)/2))**2 + math.cos(math.radians(lat1))*math.cos(math.radians(lat2))*math.sin(math.radians((lon1-lon2)/2))**2\n",
    "    if a < 0:\n",
    "        print('row',row,'col',col,':', 'Error: sqrt(a) is undefined, a is negative')\n",
    "    else:\n",
    "        b = 2* math.atan2(math.sqrt(a), math.sqrt(1-a))\n",
    "        row_col = (row,col)\n",
    "        d = round(R*b/1000,3) # converting the distance from m to km\n",
    "        return d #,row_col\n",
    "    \n"
   ]
  },
  {
   "cell_type": "code",
   "execution_count": 255,
   "metadata": {},
   "outputs": [],
   "source": [
    "# Calculating the distances between the station of interest (SOI) and selecting the nearest distance\n",
    "\n",
    "# Calculating the distance between the stations\n",
    "\n",
    "distances = []\n",
    "for i in range(len(radar)):\n",
    "    distances.append(haversine(lat_SOI,lon_SOI,radar.Latitude[i],radar.Longitude[i]))\n",
    "\n"
   ]
  },
  {
   "cell_type": "code",
   "execution_count": 256,
   "metadata": {},
   "outputs": [
    {
     "name": "stdout",
     "output_type": "stream",
     "text": [
      "idx: 6\n",
      "nearest distance: (151.657, (859, 1674)) km\n",
      "nearest radar: Hastings\n",
      "nearest station coordinates: [40.32083, -98.44167]\n"
     ]
    }
   ],
   "source": [
    "# Select the nearest radar station to SOI and its geographic coordinates\n",
    "\n",
    "for i in range(len(distances)):\n",
    "    if distances[i] == min(distances):\n",
    "        idx_nearest = i\n",
    "        nearest_distance = distances[i]\n",
    "        nearest_name = radar.Radar_station[i]\n",
    "        nearest_coordinates = [radar.Latitude[i], radar.Longitude[i]]\n",
    "        \n",
    "\n",
    "print('idx:',idx_nearest)\n",
    "print('nearest distance:', nearest_distance,'km')\n",
    "print('nearest radar:', nearest_name)\n",
    "print('nearest station coordinates:',nearest_coordinates)\n"
   ]
  },
  {
   "cell_type": "code",
   "execution_count": 263,
   "metadata": {},
   "outputs": [],
   "source": [
    "# RAINFALL CODE STARTS"
   ]
  },
  {
   "cell_type": "code",
   "execution_count": 264,
   "metadata": {},
   "outputs": [
    {
     "data": {
      "text/plain": [
       "['nws_precip_1hour_conus.tif',\n",
       " 'nws_precip_last365days_20200426_conus.tif',\n",
       " 'nws_precip_wytd_20191001_conus.tif',\n",
       " 'nws_precip_ytd_20200101_conus.tif']"
      ]
     },
     "execution_count": 264,
     "metadata": {},
     "output_type": "execute_result"
    }
   ],
   "source": [
    "# List of data files in the folder\n",
    "\n",
    "data_files = [file for file in glob.glob(\"*conus.tif\")]\n",
    "data_files\n"
   ]
  },
  {
   "cell_type": "code",
   "execution_count": 265,
   "metadata": {},
   "outputs": [
    {
     "name": "stdout",
     "output_type": "stream",
     "text": [
      "<open DatasetReader name='nws_precip_wytd_20191001_conus.tif' mode='r'>\n",
      "(881, 1121)\n",
      "1121\n",
      "881\n",
      "(1, 2, 3, 4)\n",
      "BoundingBox(left=-1904912.11073866, bottom=-7619986.69569394, right=3434410.88926134, top=-3423783.69569394)\n",
      "PROJCS[\"NOAA_HRAP_Grid\",GEOGCS[\"GCS_NOAA_HRAP\",DATUM[\"D_NOAA_HRAP\",SPHEROID[\"Sphere\",6371200,0]],PRIMEM[\"Greenwich\",0],UNIT[\"degree\",0.0174532925199433]],PROJECTION[\"Polar_Stereographic\"],PARAMETER[\"latitude_of_origin\",60],PARAMETER[\"central_meridian\",-105],PARAMETER[\"scale_factor\",1],PARAMETER[\"false_easting\",0],PARAMETER[\"false_northing\",0],UNIT[\"metre\",1,AUTHORITY[\"EPSG\",\"9001\"]]]\n"
     ]
    }
   ],
   "source": [
    "# Load a single file to explore the data information\n",
    "\n",
    "data = rasterio.open(data_files[2])\n",
    "\n",
    "print(data)\n",
    "\n",
    "print(data.shape)\n",
    "print(data.width)\n",
    "print(data.height)\n",
    "print(data.indexes)\n",
    "print(data.bounds)\n",
    "print(data.crs)\n"
   ]
  },
  {
   "cell_type": "code",
   "execution_count": 266,
   "metadata": {},
   "outputs": [
    {
     "data": {
      "text/plain": [
       "array([[ True,  True,  True, ...,  True,  True,  True],\n",
       "       [ True,  True,  True, ...,  True,  True,  True],\n",
       "       [ True,  True,  True, ...,  True,  True,  True],\n",
       "       ...,\n",
       "       [ True,  True,  True, ...,  True,  True,  True],\n",
       "       [ True,  True,  True, ...,  True,  True,  True],\n",
       "       [ True,  True,  True, ...,  True,  True,  True]])"
      ]
     },
     "execution_count": 266,
     "metadata": {},
     "output_type": "execute_result"
    }
   ],
   "source": [
    "# Save columns and rows as well as values less than 0.\n",
    "\n",
    "rows,cols = data.shape\n",
    "idx_no_us = data.read(1) < 0\n",
    "rows, cols\n",
    "idx_no_us\n",
    "\n"
   ]
  },
  {
   "cell_type": "code",
   "execution_count": 267,
   "metadata": {},
   "outputs": [
    {
     "data": {
      "text/plain": [
       "(881, 1121, 4)"
      ]
     },
     "execution_count": 267,
     "metadata": {},
     "output_type": "execute_result"
    }
   ],
   "source": [
    "rainfall_3d = np.ones([rows,cols,len(data_files)]) * np.nan\n",
    "rainfall_3d.shape"
   ]
  },
  {
   "cell_type": "code",
   "execution_count": 268,
   "metadata": {},
   "outputs": [
    {
     "name": "stdout",
     "output_type": "stream",
     "text": [
      "0 <open DatasetReader name='nws_precip_last365days_20200426_conus.tif' mode='r'>\n"
     ]
    }
   ],
   "source": [
    "# Create empty matrix\n",
    "\n",
    "rainfall_3d = np.ones([rows,cols,len(data_files[1:2])]) * np.nan\n",
    "\n",
    "# Iterate and append rainfall for each day to build a 3D array\n",
    "for count,filename in enumerate(data_files[1:2]):\n",
    "    data = rasterio.open(filename)\n",
    "    print(count,data)\n",
    "    rainfall = data.read(1)\n",
    "    rainfall[idx_no_us] = np.nan\n",
    "    rainfall_3d[:,:,count] = rainfall\n",
    "#data"
   ]
  },
  {
   "cell_type": "code",
   "execution_count": 302,
   "metadata": {},
   "outputs": [
    {
     "data": {
      "text/plain": [
       "(7.259, (859, 1674))"
      ]
     },
     "execution_count": 302,
     "metadata": {},
     "output_type": "execute_result"
    }
   ],
   "source": [
    "# Inspect resulting 3D array\n",
    "\n",
    "haversine(39.1836,-96.5717,39.1279,-96.6156)"
   ]
  },
  {
   "cell_type": "code",
   "execution_count": 305,
   "metadata": {},
   "outputs": [
    {
     "ename": "IndexError",
     "evalue": "index 1674 is out of bounds for axis 1 with size 1121",
     "output_type": "error",
     "traceback": [
      "\u001b[1;31m---------------------------------------------------------------------------\u001b[0m",
      "\u001b[1;31mIndexError\u001b[0m                                Traceback (most recent call last)",
      "\u001b[1;32m<ipython-input-305-535cbc9e93ee>\u001b[0m in \u001b[0;36m<module>\u001b[1;34m\u001b[0m\n\u001b[0;32m      4\u001b[0m \u001b[0mcum_rainfall\u001b[0m \u001b[1;33m=\u001b[0m \u001b[0mcum_rainfall\u001b[0m \u001b[1;33m*\u001b[0m \u001b[1;36m25.4\u001b[0m \u001b[1;31m# inches to millimeters\u001b[0m\u001b[1;33m\u001b[0m\u001b[1;33m\u001b[0m\u001b[0m\n\u001b[0;32m      5\u001b[0m \u001b[1;33m\u001b[0m\u001b[0m\n\u001b[1;32m----> 6\u001b[1;33m \u001b[0mcum_rainfall\u001b[0m\u001b[1;33m[\u001b[0m\u001b[1;36m859\u001b[0m\u001b[1;33m,\u001b[0m \u001b[1;36m1674\u001b[0m\u001b[1;33m]\u001b[0m\u001b[1;33m\u001b[0m\u001b[1;33m\u001b[0m\u001b[0m\n\u001b[0m",
      "\u001b[1;31mIndexError\u001b[0m: index 1674 is out of bounds for axis 1 with size 1121"
     ]
    }
   ],
   "source": [
    "# Compute cumulative rainfall for each single pixel\n",
    "\n",
    "cum_rainfall = np.nansum(rainfall_3d, axis=2)\n",
    "cum_rainfall = cum_rainfall * 25.4 # inches to millimeters\n",
    "\n",
    "cum_rainfall[859, 1674]\n"
   ]
  },
  {
   "cell_type": "code",
   "execution_count": 271,
   "metadata": {},
   "outputs": [
    {
     "name": "stdout",
     "output_type": "stream",
     "text": [
      "(881, 1121)\n"
     ]
    },
    {
     "data": {
      "text/plain": [
       "array([[0., 0., 0., 0., 0.],\n",
       "       [0., 0., 0., 0., 0.],\n",
       "       [0., 0., 0., 0., 0.],\n",
       "       [0., 0., 0., 0., 0.],\n",
       "       [0., 0., 0., 0., 0.],\n",
       "       [0., 0., 0., 0., 0.],\n",
       "       [0., 0., 0., 0., 0.],\n",
       "       [0., 0., 0., 0., 0.],\n",
       "       [0., 0., 0., 0., 0.],\n",
       "       [0., 0., 0., 0., 0.]])"
      ]
     },
     "execution_count": 271,
     "metadata": {},
     "output_type": "execute_result"
    }
   ],
   "source": [
    "# Inspect dimensions and data within the cumulative sum\n",
    "\n",
    "print(cum_rainfall.shape)\n",
    "cum_rainfall[0:10,0:5]\n"
   ]
  },
  {
   "cell_type": "code",
   "execution_count": 310,
   "metadata": {},
   "outputs": [],
   "source": [
    "# Set to `NaN` all the pixels that are outside the PRISM US boundaries and are equal to zero\n",
    "\n",
    "cum_rainfall[idx_no_us | (cum_rainfall == 0)] = np.nan\n"
   ]
  },
  {
   "cell_type": "code",
   "execution_count": 313,
   "metadata": {},
   "outputs": [
    {
     "data": {
      "image/png": "[encoded data removed]",
      "text/plain": [
       "<Figure size 576x576 with 2 Axes>"
      ]
     },
     "metadata": {
      "needs_background": "light"
     },
     "output_type": "display_data"
    }
   ],
   "source": [
    "# Plot Map of cummulative rainfall\n",
    "\n",
    "plt.figure(figsize=(8,8))\n",
    "plt.imshow(cum_rainfall, aspect='auto')\n",
    "plt.colorbar(orientation=\"horizontal\", pad=0.1, aspect=50, label=\"Cumulative Rainfall (mm)\")\n",
    "#plt.scatter(859, 1674, marker='*', color='b', s=100)\n",
    "plt.gca().axes.get_xaxis().set_visible(True)\n",
    "plt.gca().axes.get_yaxis().set_visible(True)\n",
    "plt.show()\n"
   ]
  },
  {
   "cell_type": "code",
   "execution_count": 274,
   "metadata": {},
   "outputs": [
    {
     "data": {
      "text/plain": [
       "CRS.from_wkt('PROJCS[\"NOAA_HRAP_Grid\",GEOGCS[\"GCS_NOAA_HRAP\",DATUM[\"D_NOAA_HRAP\",SPHEROID[\"Sphere\",6371200,0]],PRIMEM[\"Greenwich\",0],UNIT[\"degree\",0.0174532925199433]],PROJECTION[\"Polar_Stereographic\"],PARAMETER[\"latitude_of_origin\",60],PARAMETER[\"central_meridian\",-105],PARAMETER[\"scale_factor\",1],PARAMETER[\"false_easting\",0],PARAMETER[\"false_northing\",0],UNIT[\"metre\",1,AUTHORITY[\"EPSG\",\"9001\"]]]')"
      ]
     },
     "execution_count": 274,
     "metadata": {},
     "output_type": "execute_result"
    }
   ],
   "source": [
    "# RAINFALL CODE\n",
    "sx = rasterio.open(data_files[2]) \n",
    "sx.shape[1]\n",
    "sx.crs"
   ]
  },
  {
   "cell_type": "code",
   "execution_count": 275,
   "metadata": {},
   "outputs": [
    {
     "data": {
      "text/plain": [
       "[(-1900149.11073866, -3423783.69569394),\n",
       " (-1895386.11073866, -3423783.69569394),\n",
       " (-1890623.11073866, -3423783.69569394),\n",
       " (-1885860.11073866, -3423783.69569394)]"
      ]
     },
     "execution_count": 275,
     "metadata": {},
     "output_type": "execute_result"
    }
   ],
   "source": [
    "# Loop through data to extract Coordinates for each pixel\n",
    "\n",
    "map_coords = []\n",
    "for row in range(sx.shape[0]):    \n",
    "    for col in range(sx.shape[1]):        \n",
    "        map_coords.append(sx.xy(row,col, offset ='ul'))\n",
    "\n",
    "map_coords[1:5]\n"
   ]
  },
  {
   "cell_type": "code",
   "execution_count": 276,
   "metadata": {},
   "outputs": [],
   "source": [
    "# A function to convert the coordinates reference system \n",
    "\n",
    "def reproject_et(inpath, outpath, new_crs):\n",
    "    \n",
    "    'A function to convert a raster from one coordinate system to another coordinate system. This function will load back into into python the new file created'\n",
    "    'Definition of inputs: inpath = name of the file which is to be converted'\n",
    "    'outpath = name of the new file after the conversion'  \n",
    "    'new_crs = the new refrence system you want'\n",
    "   \n",
    "    dst_crs = new_crs # CRS for web meractor \n",
    "\n",
    "    with rasterio.open(inpath) as src:\n",
    "        transform, width, height = calculate_default_transform(\n",
    "            src.crs, dst_crs, src.width, src.height, *src.bounds)\n",
    "        kwargs = src.meta.copy()\n",
    "        kwargs.update({\n",
    "            'crs': dst_crs,\n",
    "            'transform': transform,\n",
    "            'width': width,\n",
    "            'height': height\n",
    "        })\n",
    "\n",
    "        with rasterio.open(outpath, 'w', **kwargs) as dst:\n",
    "            for i in range(1, src.count + 1):\n",
    "                reproject(\n",
    "                    source=rasterio.band(src, i),\n",
    "                    destination=rasterio.band(dst, i),\n",
    "                    src_transform=src.transform,\n",
    "                    src_crs=src.crs,\n",
    "                    dst_transform=transform,\n",
    "                    dst_crs=dst_crs,\n",
    "                    resampling=Resampling.nearest)\n",
    "                "
   ]
  },
  {
   "cell_type": "code",
   "execution_count": 277,
   "metadata": {},
   "outputs": [],
   "source": [
    "# Convert the data into the new coordinte system\n",
    "\n",
    "new_crs = 'EPSG:4326'\n",
    "inpath = data_files[2]\n",
    "outpath = 'data_new.tif'\n",
    "reproject_et(inpath,outpath,new_crs)\n",
    "\n",
    "new_file = rasterio.open(outpath) # open the new file to python\n",
    "new_file.crs\n",
    "new_file.shape\n",
    "\n"
   ]
  },
  {
   "cell_type": "code",
   "execution_count": 278,
   "metadata": {},
   "outputs": [
    {
     "data": {
      "text/plain": [
       "(860, 1675)"
      ]
     },
     "execution_count": 278,
     "metadata": {},
     "output_type": "execute_result"
    }
   ],
   "source": [
    "# Extract the geographic coordinates\n",
    "\n",
    "map_coords = []\n",
    "for row in range(new_file.shape[0]):    \n",
    "    for col in range(new_file.shape[1]):        \n",
    "        map_coords.append(new_file.xy(row,col, offset ='ul'))\n",
    "\n",
    "map_coords[3:5]\n"
   ]
  },
  {
   "cell_type": "code",
   "execution_count": 315,
   "metadata": {},
   "outputs": [
    {
     "name": "stdout",
     "output_type": "stream",
     "text": [
      "row 501 col 82 : Error: sqrt(a) is undefined, a is negative\n",
      "row 501 col 442 : Error: sqrt(a) is undefined, a is negative\n",
      "row 501 col 802 : Error: sqrt(a) is undefined, a is negative\n",
      "row 501 col 1162 : Error: sqrt(a) is undefined, a is negative\n",
      "row 501 col 1522 : Error: sqrt(a) is undefined, a is negative\n"
     ]
    }
   ],
   "source": [
    "# Compute the distance between SOI and the varous coordinates\n",
    "\n",
    "distances = []\n",
    "for row in range(new_file.shape[0]):\n",
    "    for col in range(new_file.shape[1]):\n",
    "        distances.append(haversine(lat_SOI,lon_SOI,row,col))\n",
    "        \n",
    "        \n",
    "       "
   ]
  },
  {
   "cell_type": "code",
   "execution_count": 319,
   "metadata": {},
   "outputs": [
    {
     "ename": "TypeError",
     "evalue": "'<' not supported between instances of 'NoneType' and 'float'",
     "output_type": "error",
     "traceback": [
      "\u001b[1;31m---------------------------------------------------------------------------\u001b[0m",
      "\u001b[1;31mTypeError\u001b[0m                                 Traceback (most recent call last)",
      "\u001b[1;32m<ipython-input-319-04794b6d69c4>\u001b[0m in \u001b[0;36m<module>\u001b[1;34m\u001b[0m\n\u001b[0;32m      1\u001b[0m \u001b[1;32mfor\u001b[0m \u001b[0mi\u001b[0m \u001b[1;32min\u001b[0m \u001b[0mrange\u001b[0m\u001b[1;33m(\u001b[0m\u001b[0mlen\u001b[0m\u001b[1;33m(\u001b[0m\u001b[0mdistances\u001b[0m\u001b[1;33m)\u001b[0m\u001b[1;33m)\u001b[0m\u001b[1;33m:\u001b[0m\u001b[1;33m\u001b[0m\u001b[1;33m\u001b[0m\u001b[0m\n\u001b[1;32m----> 2\u001b[1;33m     \u001b[1;32mif\u001b[0m \u001b[0mdistances\u001b[0m\u001b[1;33m[\u001b[0m\u001b[0mi\u001b[0m\u001b[1;33m]\u001b[0m \u001b[1;33m==\u001b[0m \u001b[0mmin\u001b[0m\u001b[1;33m(\u001b[0m\u001b[0mdistances\u001b[0m\u001b[1;33m)\u001b[0m\u001b[1;33m:\u001b[0m\u001b[1;33m\u001b[0m\u001b[1;33m\u001b[0m\u001b[0m\n\u001b[0m\u001b[0;32m      3\u001b[0m         \u001b[0midx_nearest\u001b[0m \u001b[1;33m=\u001b[0m \u001b[0mdistances\u001b[0m\u001b[1;33m(\u001b[0m\u001b[0mi\u001b[0m\u001b[1;33m)\u001b[0m\u001b[1;33m\u001b[0m\u001b[1;33m\u001b[0m\u001b[0m\n\u001b[0;32m      4\u001b[0m         \u001b[0mnearest_distance\u001b[0m \u001b[1;33m=\u001b[0m \u001b[0mdistances\u001b[0m\u001b[1;33m[\u001b[0m\u001b[0mi\u001b[0m\u001b[1;33m]\u001b[0m\u001b[1;33m\u001b[0m\u001b[1;33m\u001b[0m\u001b[0m\n\u001b[0;32m      5\u001b[0m         \u001b[1;31m#nearest_name = radar.Radar_station[i]\u001b[0m\u001b[1;33m\u001b[0m\u001b[1;33m\u001b[0m\u001b[1;33m\u001b[0m\u001b[0m\n",
      "\u001b[1;31mTypeError\u001b[0m: '<' not supported between instances of 'NoneType' and 'float'"
     ]
    }
   ],
   "source": [
    "for i in range(len(distances)):\n",
    "    if distances[i] == min(distances):\n",
    "        idx_nearest = distances(i)\n",
    "        nearest_distance = distances[i]\n",
    "        #nearest_name = radar.Radar_station[i]\n",
    "        nearest_coordinates = newfile.xy(row[i], col[i])\n",
    "        \n",
    "\n",
    "print('idx:',idx_nearest)\n",
    "print('nearest distance:', nearest_distance,'km')\n",
    "print('nearest radar:', nearest_name)\n",
    "print('nearest station coordinates:',nearest_coordinates)\n"
   ]
  },
  {
   "cell_type": "code",
   "execution_count": null,
   "metadata": {},
   "outputs": [],
   "source": []
  },
  {
   "cell_type": "code",
   "execution_count": 371,
   "metadata": {},
   "outputs": [],
   "source": []
  },
  {
   "cell_type": "code",
   "execution_count": null,
   "metadata": {},
   "outputs": [],
   "source": []
  },
  {
   "cell_type": "code",
   "execution_count": null,
   "metadata": {},
   "outputs": [],
   "source": []
  },
  {
   "cell_type": "code",
   "execution_count": null,
   "metadata": {},
   "outputs": [],
   "source": []
  },
  {
   "cell_type": "code",
   "execution_count": null,
   "metadata": {},
   "outputs": [],
   "source": []
  },
  {
   "cell_type": "code",
   "execution_count": null,
   "metadata": {},
   "outputs": [],
   "source": []
  },
  {
   "cell_type": "code",
   "execution_count": null,
   "metadata": {},
   "outputs": [],
   "source": []
  },
  {
   "cell_type": "code",
   "execution_count": null,
   "metadata": {},
   "outputs": [],
   "source": []
  },
  {
   "cell_type": "code",
   "execution_count": null,
   "metadata": {},
   "outputs": [],
   "source": []
  },
  {
   "cell_type": "code",
   "execution_count": null,
   "metadata": {},
   "outputs": [],
   "source": []
  },
  {
   "cell_type": "code",
   "execution_count": null,
   "metadata": {},
   "outputs": [],
   "source": []
  },
  {
   "cell_type": "code",
   "execution_count": null,
   "metadata": {},
   "outputs": [],
   "source": []
  },
  {
   "cell_type": "code",
   "execution_count": null,
   "metadata": {},
   "outputs": [],
   "source": []
  },
  {
   "cell_type": "code",
   "execution_count": null,
   "metadata": {},
   "outputs": [],
   "source": []
  },
  {
   "cell_type": "code",
   "execution_count": null,
   "metadata": {},
   "outputs": [],
   "source": []
  },
  {
   "cell_type": "code",
   "execution_count": null,
   "metadata": {},
   "outputs": [],
   "source": []
  },
  {
   "cell_type": "code",
   "execution_count": null,
   "metadata": {},
   "outputs": [],
   "source": []
  },
  {
   "cell_type": "code",
   "execution_count": null,
   "metadata": {},
   "outputs": [],
   "source": []
  },
  {
   "cell_type": "code",
   "execution_count": null,
   "metadata": {},
   "outputs": [],
   "source": []
  },
  {
   "cell_type": "code",
   "execution_count": null,
   "metadata": {},
   "outputs": [],
   "source": []
  },
  {
   "cell_type": "code",
   "execution_count": null,
   "metadata": {},
   "outputs": [],
   "source": []
  },
  {
   "cell_type": "code",
   "execution_count": 385,
   "metadata": {},
   "outputs": [
    {
     "name": "stdout",
     "output_type": "stream",
     "text": [
      "height spacing:  0.044273720114906476 degrees\n",
      "width spacing:  0.044273720114906476 degrees\n"
     ]
    }
   ],
   "source": [
    "# Find the dimension of each pixel\n",
    "\n",
    "height_spacing = (new_file.bounds.top - new_file.bounds.bottom)/new_file.height\n",
    "print('height spacing: ',height_spacing,'degrees')\n",
    "\n",
    "width_spacing = (new_file.bounds.right- new_file.bounds.left)/new_file.width\n",
    "print('width spacing: ',width_spacing,'degrees')\n"
   ]
  },
  {
   "cell_type": "code",
   "execution_count": 388,
   "metadata": {},
   "outputs": [],
   "source": [
    "# Find and create a mask for the missing data values \n",
    "\n",
    "nodata_value = new_file.nodata # find the missing data \n",
    "\n",
    "new_file_masked = np.ma.masked_equal(new_file.read(),nodata_value) # mask the missing data \n",
    "\n",
    "# data_masked[1,609,800] #[1,600,800]"
   ]
  },
  {
   "cell_type": "code",
   "execution_count": 389,
   "metadata": {},
   "outputs": [
    {
     "data": {
      "image/png": "[encoded data removed]",
      "text/plain": [
       "<Figure size 432x576 with 2 Axes>"
      ]
     },
     "metadata": {
      "needs_background": "light"
     },
     "output_type": "display_data"
    }
   ],
   "source": [
    "# Plot a map of the observed data without missing values\n",
    "\n",
    "plt.figure(figsize= (6,8))\n",
    "plt.imshow(new_file_masked[1,:,:], cmap = 'RdYlBu') #Band 1 contains the observed data\n",
    "\n",
    "#plt.scatter(859, 1674, marker='*', color='b', s=100) \n",
    "\n",
    "cb = plt.colorbar(ticks = range(0,201,20), label = 'Total rainfall in contiguous USA for 2019 water year', orientation = 'horizontal')\n",
    "plt.tight_layout()\n",
    "#plt.savefig('ConUS_wyr')\n",
    "plt.show()\n"
   ]
  },
  {
   "cell_type": "code",
   "execution_count": null,
   "metadata": {},
   "outputs": [],
   "source": []
  },
  {
   "cell_type": "code",
   "execution_count": null,
   "metadata": {},
   "outputs": [],
   "source": []
  },
  {
   "cell_type": "code",
   "execution_count": null,
   "metadata": {},
   "outputs": [],
   "source": []
  },
  {
   "cell_type": "code",
   "execution_count": null,
   "metadata": {},
   "outputs": [],
   "source": [
    "\n",
    "\n",
    "\n"
   ]
  },
  {
   "cell_type": "code",
   "execution_count": null,
   "metadata": {},
   "outputs": [],
   "source": [
    "\n"
   ]
  },
  {
   "cell_type": "code",
   "execution_count": null,
   "metadata": {},
   "outputs": [],
   "source": []
  },
  {
   "cell_type": "code",
   "execution_count": null,
   "metadata": {},
   "outputs": [],
   "source": []
  },
  {
   "cell_type": "code",
   "execution_count": null,
   "metadata": {},
   "outputs": [],
   "source": []
  },
  {
   "cell_type": "code",
   "execution_count": null,
   "metadata": {},
   "outputs": [],
   "source": []
  },
  {
   "cell_type": "code",
   "execution_count": null,
   "metadata": {},
   "outputs": [],
   "source": []
  }
 ],
 "metadata": {
  "kernelspec": {
   "display_name": "Python 3",
   "language": "python",
   "name": "python3"
  },
  "language_info": {
   "codemirror_mode": {
    "name": "ipython",
    "version": 3
   },
   "file_extension": ".py",
   "mimetype": "text/x-python",
   "name": "python",
   "nbconvert_exporter": "python",
   "pygments_lexer": "ipython3",
   "version": "3.7.4"
  }
 },
 "nbformat": 4,
 "nbformat_minor": 4
}
