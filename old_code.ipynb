{
 "cells": [
  {
   "cell_type": "markdown",
   "metadata": {},
   "source": [
    "# Code for downloading rainfall data from NOAA radar"
   ]
  },
  {
   "cell_type": "markdown",
   "metadata": {},
   "source": [
    "##### Note: Install the rasterio module using the command line, \"conda install rasterio\"\n",
    "\n"
   ]
  },
  {
   "cell_type": "code",
   "execution_count": null,
   "metadata": {},
   "outputs": [],
   "source": [
    "# Import modules\n",
    "import os\n",
    "import glob\n",
    "import numpy as np\n",
    "import pandas as pd\n",
    "import matplotlib.pyplot as plt\n",
    "import rasterio\n",
    "#from rasterio import features as ft\n",
    "from rasterio.warp import calculate_default_transform, reproject, Resampling\n"
   ]
  },
  {
   "cell_type": "code",
   "execution_count": null,
   "metadata": {},
   "outputs": [],
   "source": [
    "# Obtain the current working directory\n",
    "\n",
    "glob.os.getcwd()\n"
   ]
  },
  {
   "cell_type": "code",
   "execution_count": null,
   "metadata": {},
   "outputs": [],
   "source": [
    "# User inputs\n",
    "\n",
    "SOI = input('Enter station name')\n",
    "lat_SOI = float(input('Enter latitude'))\n",
    "lon_SOI = float(input('Enter longitude'))\n",
    "interval = input('Enter data interval')\n",
    "start =input('Enter start date in mm-dd-yyyy')\n",
    "end =input('Enter end date in mm-dd-yyyy')\n",
    "#email = input('Enter recipient email address')"
   ]
  },
  {
   "cell_type": "code",
   "execution_count": null,
   "metadata": {},
   "outputs": [],
   "source": [
    "# Load the .csv file containing radar locations in Kansas\n",
    "\n",
    "radar = pd.read_csv('radars.csv')\n",
    "\n",
    "radar.head(13)\n",
    "#radar.tail()"
   ]
  },
  {
   "cell_type": "code",
   "execution_count": null,
   "metadata": {},
   "outputs": [],
   "source": [
    "# Creating a Haversine function for computing the distance between two points on the earth's surface\n",
    "\n",
    "def haversine (lat1,lon1,lat2,lon2):\n",
    "    \" A Function for calculating the distance between two points on the earth's surface using the Haversine formula\"\n",
    "    \n",
    "    import math\n",
    "    \n",
    "    R = 6371000  # radius of the earth in meters\n",
    "    a = math.sin(math.radians((lat1-lat2)/2))**2 + math.cos(math.radians(lat1))*math.cos(math.radians(lat2))*math.sin(math.radians((lon1-lon2)/2))**2\n",
    "    if a < 0:\n",
    "        print('row',row,'col',col,':', 'Error: sqrt(a) is undefined, a is negative')\n",
    "    else:\n",
    "        b = 2* math.atan2(math.sqrt(a), math.sqrt(1-a))\n",
    "        row_col = (row,col)\n",
    "        d = round(R*b/1000,3) # converting the distance from m to km\n",
    "        return d #,row_col\n",
    "    \n"
   ]
  },
  {
   "cell_type": "code",
   "execution_count": null,
   "metadata": {},
   "outputs": [],
   "source": [
    "# Calculating the distances between the station of interest (SOI) and selecting the nearest distance\n",
    "\n",
    "# Calculating the distance between the stations\n",
    "\n",
    "distances = []\n",
    "for i in range(len(radar)):\n",
    "    distances.append(haversine(lat_SOI,lon_SOI,radar.Latitude[i],radar.Longitude[i]))\n",
    "\n"
   ]
  },
  {
   "cell_type": "code",
   "execution_count": null,
   "metadata": {},
   "outputs": [],
   "source": [
    "# Select the nearest radar station to SOI and its geographic coordinates\n",
    "\n",
    "for i in range(len(distances)):\n",
    "    if distances[i] == min(distances):\n",
    "        idx_nearest = i\n",
    "        nearest_distance = distances[i]\n",
    "        nearest_name = radar.Radar_station[i]\n",
    "        nearest_coordinates = [radar.Latitude[i], radar.Longitude[i]]\n",
    "        \n",
    "\n",
    "print('idx:',idx_nearest)\n",
    "print('nearest distance:', nearest_distance,'km')\n",
    "print('nearest radar:', nearest_name)\n",
    "print('nearest station coordinates:',nearest_coordinates)\n"
   ]
  },
  {
   "cell_type": "code",
   "execution_count": null,
   "metadata": {},
   "outputs": [],
   "source": [
    "# RAINFALL CODE STARTS"
   ]
  },
  {
   "cell_type": "code",
   "execution_count": null,
   "metadata": {},
   "outputs": [],
   "source": [
    "# List of data files in the folder\n",
    "\n",
    "data_files = [file for file in glob.glob(\"*conus.tif\")]\n",
    "data_files\n"
   ]
  },
  {
   "cell_type": "code",
   "execution_count": null,
   "metadata": {},
   "outputs": [],
   "source": [
    "# Load a single file to explore the data information\n",
    "\n",
    "data = rasterio.open(data_files[2])\n",
    "\n",
    "print(data)\n",
    "\n",
    "print(data.shape)\n",
    "print(data.width)\n",
    "print(data.height)\n",
    "print(data.indexes)\n",
    "print(data.bounds)\n",
    "print(data.crs)\n"
   ]
  },
  {
   "cell_type": "code",
   "execution_count": null,
   "metadata": {},
   "outputs": [],
   "source": [
    "# Save columns and rows as well as values less than 0.\n",
    "\n",
    "rows,cols = data.shape\n",
    "idx_no_us = data.read(1) < 0\n",
    "rows, cols\n",
    "idx_no_us\n",
    "\n"
   ]
  },
  {
   "cell_type": "code",
   "execution_count": null,
   "metadata": {},
   "outputs": [],
   "source": [
    "rainfall_3d = np.ones([rows,cols,len(data_files)]) * np.nan\n",
    "rainfall_3d.shape"
   ]
  },
  {
   "cell_type": "code",
   "execution_count": null,
   "metadata": {},
   "outputs": [],
   "source": [
    "# Create empty matrix\n",
    "\n",
    "rainfall_3d = np.ones([rows,cols,len(data_files[1:2])]) * np.nan\n",
    "\n",
    "# Iterate and append rainfall for each day to build a 3D array\n",
    "for count,filename in enumerate(data_files[1:2]):\n",
    "    data = rasterio.open(filename)\n",
    "    print(count,data)\n",
    "    rainfall = data.read(1)\n",
    "    rainfall[idx_no_us] = np.nan\n",
    "    rainfall_3d[:,:,count] = rainfall\n",
    "#data"
   ]
  },
  {
   "cell_type": "code",
   "execution_count": null,
   "metadata": {},
   "outputs": [],
   "source": [
    "# Inspect resulting 3D array\n",
    "\n",
    "haversine(39.1836,-96.5717,39.1279,-96.6156)"
   ]
  },
  {
   "cell_type": "code",
   "execution_count": null,
   "metadata": {},
   "outputs": [],
   "source": [
    "# Compute cumulative rainfall for each single pixel\n",
    "\n",
    "cum_rainfall = np.nansum(rainfall_3d, axis=2)\n",
    "cum_rainfall = cum_rainfall * 25.4 # inches to millimeters\n",
    "\n",
    "cum_rainfall[859, 1674]\n"
   ]
  },
  {
   "cell_type": "code",
   "execution_count": null,
   "metadata": {},
   "outputs": [],
   "source": [
    "# Inspect dimensions and data within the cumulative sum\n",
    "\n",
    "print(cum_rainfall.shape)\n",
    "cum_rainfall[0:10,0:5]\n"
   ]
  },
  {
   "cell_type": "code",
   "execution_count": null,
   "metadata": {},
   "outputs": [],
   "source": [
    "# Set to `NaN` all the pixels that are outside the PRISM US boundaries and are equal to zero\n",
    "\n",
    "cum_rainfall[idx_no_us | (cum_rainfall == 0)] = np.nan\n"
   ]
  },
  {
   "cell_type": "code",
   "execution_count": null,
   "metadata": {},
   "outputs": [],
   "source": [
    "# Plot Map of cummulative rainfall\n",
    "\n",
    "plt.figure(figsize=(8,8))\n",
    "plt.imshow(cum_rainfall, aspect='auto')\n",
    "plt.colorbar(orientation=\"horizontal\", pad=0.1, aspect=50, label=\"Cumulative Rainfall (mm)\")\n",
    "#plt.scatter(859, 1674, marker='*', color='b', s=100)\n",
    "plt.gca().axes.get_xaxis().set_visible(True)\n",
    "plt.gca().axes.get_yaxis().set_visible(True)\n",
    "plt.show()\n"
   ]
  },
  {
   "cell_type": "code",
   "execution_count": null,
   "metadata": {},
   "outputs": [],
   "source": [
    "# RAINFALL CODE\n",
    "sx = rasterio.open(data_files[2]) \n",
    "sx.shape[1]\n",
    "sx.crs"
   ]
  },
  {
   "cell_type": "code",
   "execution_count": null,
   "metadata": {},
   "outputs": [],
   "source": [
    "# Loop through data to extract Coordinates for each pixel\n",
    "\n",
    "map_coords = []\n",
    "for row in range(sx.shape[0]):    \n",
    "    for col in range(sx.shape[1]):        \n",
    "        map_coords.append(sx.xy(row,col, offset ='ul'))\n",
    "\n",
    "map_coords[1:5]\n"
   ]
  },
  {
   "cell_type": "code",
   "execution_count": null,
   "metadata": {},
   "outputs": [],
   "source": [
    "# A function to convert the coordinates reference system \n",
    "\n",
    "def reproject_et(inpath, outpath, new_crs):\n",
    "    \n",
    "    'A function to convert a raster from one coordinate system to another coordinate system. This function will load back into into python the new file created'\n",
    "    'Definition of inputs: inpath = name of the file which is to be converted'\n",
    "    'outpath = name of the new file after the conversion'  \n",
    "    'new_crs = the new refrence system you want'\n",
    "   \n",
    "    dst_crs = new_crs # CRS for web meractor \n",
    "\n",
    "    with rasterio.open(inpath) as src:\n",
    "        transform, width, height = calculate_default_transform(\n",
    "            src.crs, dst_crs, src.width, src.height, *src.bounds)\n",
    "        kwargs = src.meta.copy()\n",
    "        kwargs.update({\n",
    "            'crs': dst_crs,\n",
    "            'transform': transform,\n",
    "            'width': width,\n",
    "            'height': height\n",
    "        })\n",
    "\n",
    "        with rasterio.open(outpath, 'w', **kwargs) as dst:\n",
    "            for i in range(1, src.count + 1):\n",
    "                reproject(\n",
    "                    source=rasterio.band(src, i),\n",
    "                    destination=rasterio.band(dst, i),\n",
    "                    src_transform=src.transform,\n",
    "                    src_crs=src.crs,\n",
    "                    dst_transform=transform,\n",
    "                    dst_crs=dst_crs,\n",
    "                    resampling=Resampling.nearest)\n",
    "                "
   ]
  },
  {
   "cell_type": "code",
   "execution_count": null,
   "metadata": {},
   "outputs": [],
   "source": [
    "# Convert the data into the new coordinte system\n",
    "\n",
    "new_crs = 'EPSG:4326'\n",
    "inpath = data_files[2]\n",
    "outpath = 'data_new.tif'\n",
    "reproject_et(inpath,outpath,new_crs)\n",
    "\n",
    "new_file = rasterio.open(outpath) # open the new file to python\n",
    "new_file.crs\n",
    "new_file.shape\n",
    "\n"
   ]
  },
  {
   "cell_type": "code",
   "execution_count": null,
   "metadata": {},
   "outputs": [],
   "source": [
    "# Extract the geographic coordinates\n",
    "\n",
    "map_coords = []\n",
    "for row in range(new_file.shape[0]):    \n",
    "    for col in range(new_file.shape[1]):        \n",
    "        map_coords.append(new_file.xy(row,col, offset ='ul'))\n",
    "\n",
    "map_coords[3:5]\n"
   ]
  },
  {
   "cell_type": "code",
   "execution_count": null,
   "metadata": {},
   "outputs": [],
   "source": [
    "# Compute the distance between SOI and the varous coordinates\n",
    "\n",
    "distances = []\n",
    "for row in range(new_file.shape[0]):\n",
    "    for col in range(new_file.shape[1]):\n",
    "        distances.append(haversine(lat_SOI,lon_SOI,row,col))\n",
    "        \n",
    "        \n",
    "       "
   ]
  },
  {
   "cell_type": "code",
   "execution_count": null,
   "metadata": {},
   "outputs": [],
   "source": [
    "for i in range(len(distances)):\n",
    "    if distances[i] == min(distances):\n",
    "        idx_nearest = distances(i)\n",
    "        nearest_distance = distances[i]\n",
    "        #nearest_name = radar.Radar_station[i]\n",
    "        nearest_coordinates = newfile.xy(row[i], col[i])\n",
    "        \n",
    "\n",
    "print('idx:',idx_nearest)\n",
    "print('nearest distance:', nearest_distance,'km')\n",
    "print('nearest radar:', nearest_name)\n",
    "print('nearest station coordinates:',nearest_coordinates)\n"
   ]
  },
  {
   "cell_type": "code",
   "execution_count": null,
   "metadata": {},
   "outputs": [],
   "source": []
  },
  {
   "cell_type": "code",
   "execution_count": null,
   "metadata": {},
   "outputs": [],
   "source": []
  },
  {
   "cell_type": "code",
   "execution_count": null,
   "metadata": {},
   "outputs": [],
   "source": []
  },
  {
   "cell_type": "code",
   "execution_count": null,
   "metadata": {},
   "outputs": [],
   "source": []
  },
  {
   "cell_type": "code",
   "execution_count": null,
   "metadata": {},
   "outputs": [],
   "source": []
  },
  {
   "cell_type": "code",
   "execution_count": null,
   "metadata": {},
   "outputs": [],
   "source": []
  },
  {
   "cell_type": "code",
   "execution_count": null,
   "metadata": {},
   "outputs": [],
   "source": []
  },
  {
   "cell_type": "code",
   "execution_count": null,
   "metadata": {},
   "outputs": [],
   "source": []
  },
  {
   "cell_type": "code",
   "execution_count": null,
   "metadata": {},
   "outputs": [],
   "source": []
  },
  {
   "cell_type": "code",
   "execution_count": null,
   "metadata": {},
   "outputs": [],
   "source": []
  },
  {
   "cell_type": "code",
   "execution_count": null,
   "metadata": {},
   "outputs": [],
   "source": []
  },
  {
   "cell_type": "code",
   "execution_count": null,
   "metadata": {},
   "outputs": [],
   "source": []
  },
  {
   "cell_type": "code",
   "execution_count": null,
   "metadata": {},
   "outputs": [],
   "source": []
  },
  {
   "cell_type": "code",
   "execution_count": null,
   "metadata": {},
   "outputs": [],
   "source": []
  },
  {
   "cell_type": "code",
   "execution_count": null,
   "metadata": {},
   "outputs": [],
   "source": []
  },
  {
   "cell_type": "code",
   "execution_count": null,
   "metadata": {},
   "outputs": [],
   "source": []
  },
  {
   "cell_type": "code",
   "execution_count": null,
   "metadata": {},
   "outputs": [],
   "source": []
  },
  {
   "cell_type": "code",
   "execution_count": null,
   "metadata": {},
   "outputs": [],
   "source": []
  },
  {
   "cell_type": "code",
   "execution_count": null,
   "metadata": {},
   "outputs": [],
   "source": []
  },
  {
   "cell_type": "code",
   "execution_count": null,
   "metadata": {},
   "outputs": [],
   "source": []
  },
  {
   "cell_type": "code",
   "execution_count": null,
   "metadata": {},
   "outputs": [],
   "source": []
  },
  {
   "cell_type": "code",
   "execution_count": null,
   "metadata": {},
   "outputs": [],
   "source": []
  },
  {
   "cell_type": "code",
   "execution_count": null,
   "metadata": {},
   "outputs": [],
   "source": [
    "# Find the dimension of each pixel\n",
    "\n",
    "height_spacing = (new_file.bounds.top - new_file.bounds.bottom)/new_file.height\n",
    "print('height spacing: ',height_spacing,'degrees')\n",
    "\n",
    "width_spacing = (new_file.bounds.right- new_file.bounds.left)/new_file.width\n",
    "print('width spacing: ',width_spacing,'degrees')\n"
   ]
  },
  {
   "cell_type": "code",
   "execution_count": null,
   "metadata": {},
   "outputs": [],
   "source": [
    "# Find and create a mask for the missing data values \n",
    "\n",
    "nodata_value = new_file.nodata # find the missing data \n",
    "\n",
    "new_file_masked = np.ma.masked_equal(new_file.read(),nodata_value) # mask the missing data \n",
    "\n",
    "# data_masked[1,609,800] #[1,600,800]"
   ]
  },
  {
   "cell_type": "code",
   "execution_count": null,
   "metadata": {},
   "outputs": [],
   "source": [
    "# Plot a map of the observed data without missing values\n",
    "\n",
    "plt.figure(figsize= (6,8))\n",
    "plt.imshow(new_file_masked[1,:,:], cmap = 'RdYlBu') #Band 1 contains the observed data\n",
    "\n",
    "#plt.scatter(859, 1674, marker='*', color='b', s=100) \n",
    "\n",
    "cb = plt.colorbar(ticks = range(0,201,20), label = 'Total rainfall in contiguous USA for 2019 water year', orientation = 'horizontal')\n",
    "plt.tight_layout()\n",
    "#plt.savefig('ConUS_wyr')\n",
    "plt.show()\n"
   ]
  },
  {
   "cell_type": "code",
   "execution_count": null,
   "metadata": {},
   "outputs": [],
   "source": []
  },
  {
   "cell_type": "code",
   "execution_count": null,
   "metadata": {},
   "outputs": [],
   "source": []
  },
  {
   "cell_type": "code",
   "execution_count": null,
   "metadata": {},
   "outputs": [],
   "source": []
  },
  {
   "cell_type": "code",
   "execution_count": null,
   "metadata": {},
   "outputs": [],
   "source": [
    "\n",
    "\n",
    "\n"
   ]
  },
  {
   "cell_type": "code",
   "execution_count": null,
   "metadata": {},
   "outputs": [],
   "source": [
    "\n"
   ]
  },
  {
   "cell_type": "code",
   "execution_count": null,
   "metadata": {},
   "outputs": [],
   "source": []
  },
  {
   "cell_type": "code",
   "execution_count": null,
   "metadata": {},
   "outputs": [],
   "source": []
  },
  {
   "cell_type": "code",
   "execution_count": null,
   "metadata": {},
   "outputs": [],
   "source": []
  },
  {
   "cell_type": "code",
   "execution_count": null,
   "metadata": {},
   "outputs": [],
   "source": []
  },
  {
   "cell_type": "code",
   "execution_count": null,
   "metadata": {},
   "outputs": [],
   "source": []
  }
 ],
 "metadata": {
  "kernelspec": {
   "display_name": "Python 3",
   "language": "python",
   "name": "python3"
  },
  "language_info": {
   "codemirror_mode": {
    "name": "ipython",
    "version": 3
   },
   "file_extension": ".py",
   "mimetype": "text/x-python",
   "name": "python",
   "nbconvert_exporter": "python",
   "pygments_lexer": "ipython3",
   "version": "3.7.4"
  }
 },
 "nbformat": 4,
 "nbformat_minor": 4
}
