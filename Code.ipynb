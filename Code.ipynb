{
 "cells": [
  {
   "cell_type": "markdown",
   "metadata": {},
   "source": [
    "# Code of  downloading rainfall data from NOAA radar"
   ]
  },
  {
   "cell_type": "code",
   "execution_count": 5,
   "metadata": {},
   "outputs": [],
   "source": [
    "# Import modules\n",
    "\n",
    "import glob\n",
    "import numpy as np\n",
    "import pandas as pd\n",
    "import matplotlib.pyplot as plt\n"
   ]
  },
  {
   "cell_type": "code",
   "execution_count": 6,
   "metadata": {},
   "outputs": [
    {
     "data": {
      "text/plain": [
       "'C:\\\\Users\\\\parkernath32\\\\Dropbox\\\\Nathaniel Parker\\\\KSU_Coursework\\\\Spring 2020\\\\Introduction to Scientific Programming\\\\Project'"
      ]
     },
     "execution_count": 6,
     "metadata": {},
     "output_type": "execute_result"
    }
   ],
   "source": [
    "# Obtain the current working directory\n",
    "\n",
    "glob.os.getcwd()"
   ]
  },
  {
   "cell_type": "code",
   "execution_count": 4,
   "metadata": {},
   "outputs": [
    {
     "name": "stdin",
     "output_type": "stream",
     "text": [
      "Enter station name Maanhattan\n",
      "Enter zip/postal code 66502\n",
      "Enter data interval hour\n",
      "Enter start date in mm-dd-yyyy 03-28-2020\n",
      "Enter end date in mm-dd-yyyy 03-29-2020\n",
      "Enter recipient email address parkernath32@ksu.edu\n"
     ]
    }
   ],
   "source": [
    "# User inputs\n",
    "\n",
    "SOI = input('Enter station name')\n",
    "postcode = input('Enter zip/postal code')\n",
    "interval = input('Enter data interval')\n",
    "start =input('Enter start date in mm-dd-yyyy')\n",
    "end =input('Enter end date in mm-dd-yyyy')\n",
    "email = input('Enter recipient email address')"
   ]
  },
  {
   "cell_type": "code",
   "execution_count": null,
   "metadata": {},
   "outputs": [],
   "source": []
  }
 ],
 "metadata": {
  "kernelspec": {
   "display_name": "Python 3",
   "language": "python",
   "name": "python3"
  },
  "language_info": {
   "codemirror_mode": {
    "name": "ipython",
    "version": 3
   },
   "file_extension": ".py",
   "mimetype": "text/x-python",
   "name": "python",
   "nbconvert_exporter": "python",
   "pygments_lexer": "ipython3",
   "version": "3.7.4"
  }
 },
 "nbformat": 4,
 "nbformat_minor": 4
}
