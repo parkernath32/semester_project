{
 "cells": [
  {
   "cell_type": "code",
   "execution_count": 4,
   "metadata": {},
   "outputs": [],
   "source": [
    "import datetime #always import date time before moving forward"
   ]
  },
  {
   "cell_type": "code",
   "execution_count": 6,
   "metadata": {},
   "outputs": [
    {
     "name": "stdout",
     "output_type": "stream",
     "text": [
      "2020-02-03 15:00:17.847221\n",
      "<class 'datetime.datetime'>\n"
     ]
    }
   ],
   "source": [
    "currentdate = datetime.datetime.now()\n",
    "print(currentdate)\n",
    "print(type(currentdate))"
   ]
  },
  {
   "cell_type": "code",
   "execution_count": 7,
   "metadata": {},
   "outputs": [
    {
     "name": "stdout",
     "output_type": "stream",
     "text": [
      "2020-02-03\n"
     ]
    }
   ],
   "source": [
    "print(currentdate.date()) #gives the date portion of the date"
   ]
  },
  {
   "cell_type": "code",
   "execution_count": 8,
   "metadata": {},
   "outputs": [
    {
     "name": "stdout",
     "output_type": "stream",
     "text": [
      "15:00:17.847221\n"
     ]
    }
   ],
   "source": [
    "print(currentdate.time()) #gives the time portion of the date"
   ]
  },
  {
   "cell_type": "code",
   "execution_count": 11,
   "metadata": {},
   "outputs": [
    {
     "name": "stdout",
     "output_type": "stream",
     "text": [
      "15:00:17.847221\n",
      "3\n"
     ]
    }
   ],
   "source": [
    "#time is a method \"object.metho() eg. month\" but \"object.attribute\" has no parethesis eg. day\n",
    "\n",
    "print(currentdate.time()) #gives a time which is a method\n",
    "print(currentdate.day) #day 3 which is an attribute"
   ]
  },
  {
   "cell_type": "code",
   "execution_count": 19,
   "metadata": {},
   "outputs": [
    {
     "name": "stdout",
     "output_type": "stream",
     "text": [
      "Feb\n"
     ]
    }
   ],
   "source": [
    "print(currentdate.strftime('%b')) #('%b')shortens the month to the first three letters\n",
    "#('%B') prints the full spellings\n",
    "# currentdate.strftime converted to string"
   ]
  },
  {
   "cell_type": "code",
   "execution_count": 5,
   "metadata": {},
   "outputs": [
    {
     "name": "stdout",
     "output_type": "stream",
     "text": [
      "<class 'str'>\n"
     ]
    }
   ],
   "source": [
    "# Convert from string to date time object\n",
    "\n",
    "date_str = \"2020-02-03 14:30:00\"\n",
    "print(type(date_str)) #shows that the computer only recognize it as a text. \n",
    "# So we need to tell the computer "
   ]
  },
  {
   "cell_type": "code",
   "execution_count": 26,
   "metadata": {},
   "outputs": [
    {
     "data": {
      "text/plain": [
       "\u001b[1;31mDocstring:\u001b[0m string, format -> new datetime parsed from a string (like time.strptime()).\n",
       "\u001b[1;31mType:\u001b[0m      builtin_function_or_method\n"
      ]
     },
     "metadata": {},
     "output_type": "display_data"
    }
   ],
   "source": [
    "#date= datetime.datetime.strptime?"
   ]
  },
  {
   "cell_type": "code",
   "execution_count": 6,
   "metadata": {},
   "outputs": [
    {
     "name": "stdout",
     "output_type": "stream",
     "text": [
      "2020-02-03 14:30:00\n",
      "<class 'datetime.datetime'>\n"
     ]
    }
   ],
   "source": [
    "date_str= datetime.datetime.strptime(date_str,\"%Y-%m-%d %H:%M:%S\") #convert from string to datetime\n",
    "print(date_str)\n",
    "print(type(date_str))"
   ]
  },
  {
   "cell_type": "code",
   "execution_count": 51,
   "metadata": {},
   "outputs": [
    {
     "name": "stdout",
     "output_type": "stream",
     "text": [
      "33 days, 15:38:03.973045\n"
     ]
    }
   ],
   "source": [
    "#Arithmetic operations\n",
    "datestart = datetime.datetime(2020,1,1)\n",
    "dateend = datetime.datetime.now()\n",
    "datediff = dateend - datestart\n",
    "print(datediff)\n",
    "#datesum = dateend + datestart\n",
    "#print(datesum) This is not suported"
   ]
  },
  {
   "cell_type": "code",
   "execution_count": 52,
   "metadata": {},
   "outputs": [
    {
     "name": "stdout",
     "output_type": "stream",
     "text": [
      "<class 'datetime.datetime'>\n",
      "<class 'datetime.timedelta'>\n"
     ]
    }
   ],
   "source": [
    "print(type(datestart)) \n",
    "print(type(datediff))\n",
    "#print(type(datesum)) not supported\n",
    "\n",
    "# The types are different. Python will show"
   ]
  },
  {
   "cell_type": "code",
   "execution_count": null,
   "metadata": {},
   "outputs": [],
   "source": [
    "#working with seconds\n"
   ]
  }
 ],
 "metadata": {
  "kernelspec": {
   "display_name": "Python 3",
   "language": "python",
   "name": "python3"
  },
  "language_info": {
   "codemirror_mode": {
    "name": "ipython",
    "version": 3
   },
   "file_extension": ".py",
   "mimetype": "text/x-python",
   "name": "python",
   "nbconvert_exporter": "python",
   "pygments_lexer": "ipython3",
   "version": "3.7.4"
  }
 },
 "nbformat": 4,
 "nbformat_minor": 4
}
