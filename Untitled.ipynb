{
 "cells": [
  {
   "cell_type": "code",
   "execution_count": 5,
   "metadata": {},
   "outputs": [
    {
     "data": {
      "text/plain": [
       "0.004166666666666667"
      ]
     },
     "execution_count": 5,
     "metadata": {},
     "output_type": "execute_result"
    }
   ],
   "source": [
    "import numpy as np\n",
    "import rasterio\n",
    "from rasterio import Affine as A\n",
    "from rasterio.warp import reproject, Resampling\n",
    "\n",
    "with rasterio.Env():\n",
    "    rows, cols = src_shape = (512, 512)\n",
    "    d = 1.0/240 # decimal degrees per pixel\n",
    "d"
   ]
  },
  {
   "cell_type": "code",
   "execution_count": 28,
   "metadata": {},
   "outputs": [
    {
     "data": {
      "text/plain": [
       "(512, 512)"
      ]
     },
     "execution_count": 28,
     "metadata": {},
     "output_type": "execute_result"
    }
   ],
   "source": [
    " #A(d, 0, -cols*d/2, 0, -d, rows*d/2)\n",
    "src_shape"
   ]
  },
  {
   "cell_type": "code",
   "execution_count": 29,
   "metadata": {},
   "outputs": [
    {
     "data": {
      "text/plain": [
       "Affine(1.0, 0.0, -1.0666666666666667,\n",
       "       0.0, 1.0, 1.0666666666666667)"
      ]
     },
     "execution_count": 29,
     "metadata": {},
     "output_type": "execute_result"
    }
   ],
   "source": [
    "src_transform = A.translation(-cols*d/2, rows*d/2) #* A.scale(d, -d)\n",
    "src_transform\n"
   ]
  },
  {
   "cell_type": "code",
   "execution_count": 30,
   "metadata": {},
   "outputs": [
    {
     "data": {
      "text/plain": [
       "{'init': 'EPSG:4326'}"
      ]
     },
     "execution_count": 30,
     "metadata": {},
     "output_type": "execute_result"
    }
   ],
   "source": [
    "src_crs = {'init': 'EPSG:4326'}\n",
    "src_crs"
   ]
  },
  {
   "cell_type": "code",
   "execution_count": 31,
   "metadata": {},
   "outputs": [
    {
     "data": {
      "text/plain": [
       "array([[255, 255, 255, ..., 255, 255, 255],\n",
       "       [255, 255, 255, ..., 255, 255, 255],\n",
       "       [255, 255, 255, ..., 255, 255, 255],\n",
       "       ...,\n",
       "       [255, 255, 255, ..., 255, 255, 255],\n",
       "       [255, 255, 255, ..., 255, 255, 255],\n",
       "       [255, 255, 255, ..., 255, 255, 255]], dtype=uint8)"
      ]
     },
     "execution_count": 31,
     "metadata": {},
     "output_type": "execute_result"
    }
   ],
   "source": [
    "source = np.ones(src_shape, np.uint8)*255\n",
    "source"
   ]
  },
  {
   "cell_type": "code",
   "execution_count": 34,
   "metadata": {},
   "outputs": [
    {
     "name": "stdout",
     "output_type": "stream",
     "text": [
      "(1024, 1024)\n",
      "| 425.00, 0.00,-237481.50|\n",
      "| 0.00,-425.00, 237536.40|\n",
      "| 0.00, 0.00, 1.00|\n",
      "{'init': 'EPSG:3857'}\n",
      "[[0 0 0 ... 0 0 0]\n",
      " [0 0 0 ... 0 0 0]\n",
      " [0 0 0 ... 0 0 0]\n",
      " ...\n",
      " [0 0 0 ... 0 0 0]\n",
      " [0 0 0 ... 0 0 0]\n",
      " [0 0 0 ... 0 0 0]]\n"
     ]
    }
   ],
   "source": [
    " # Destination: a 1024 x 1024 dataset in Web Mercator (EPSG:3857)\n",
    "    # with origin at 0.0, 0.0.\n",
    " # Destination: a 1024 x 1024 dataset in Web Mercator (EPSG:3857)\n",
    "    # with origin at 0.0, 0.0.\n",
    "dst_shape = (1024, 1024)\n",
    "dst_transform = A.translation(-237481.5, 237536.4) * A.scale(425.0, -425.0)\n",
    "dst_crs = {'init': 'EPSG:3857'}\n",
    "destination = np.zeros(dst_shape, np.uint8)\n",
    "print(dst_shape)\n",
    "print(dst_transform)\n",
    "print(dst_crs)\n",
    "print(destination)"
   ]
  },
  {
   "cell_type": "code",
   "execution_count": 35,
   "metadata": {},
   "outputs": [],
   "source": [
    "reproject(\n",
    "        source,\n",
    "        destination,\n",
    "        src_transform=src_transform,\n",
    "        src_crs=src_crs,\n",
    "        dst_transform=dst_transform,\n",
    "        dst_crs=dst_crs,\n",
    "        resampling=Resampling.nearest)"
   ]
  },
  {
   "cell_type": "code",
   "execution_count": 36,
   "metadata": {},
   "outputs": [
    {
     "data": {
      "text/plain": [
       "<function rasterio.warp.reproject(source, destination, src_transform=None, gcps=None, src_crs=None, src_nodata=None, dst_transform=None, dst_crs=None, dst_nodata=None, src_alpha=0, dst_alpha=0, resampling=<Resampling.nearest: 0>, num_threads=1, init_dest_nodata=True, warp_mem_limit=0, **kwargs)>"
      ]
     },
     "execution_count": 36,
     "metadata": {},
     "output_type": "execute_result"
    }
   ],
   "source": [
    "reproject"
   ]
  },
  {
   "cell_type": "code",
   "execution_count": 46,
   "metadata": {},
   "outputs": [],
   "source": [
    "assert destination.any()"
   ]
  },
  {
   "cell_type": "code",
   "execution_count": 40,
   "metadata": {},
   "outputs": [
    {
     "data": {
      "text/plain": [
       "\u001b[1;31mDocstring:\u001b[0m\n",
       "a.all(axis=None, out=None, keepdims=False)\n",
       "\n",
       "Returns True if all elements evaluate to True.\n",
       "\n",
       "Refer to `numpy.all` for full documentation.\n",
       "\n",
       "See Also\n",
       "--------\n",
       "numpy.all : equivalent function\n",
       "\u001b[1;31mType:\u001b[0m      builtin_function_or_method\n"
      ]
     },
     "metadata": {},
     "output_type": "display_data"
    }
   ],
   "source": [
    "assert not destination.all?"
   ]
  },
  {
   "cell_type": "code",
   "execution_count": 43,
   "metadata": {},
   "outputs": [
    {
     "ename": "SyntaxError",
     "evalue": "invalid syntax (<ipython-input-43-4c8452ea1784>, line 1)",
     "output_type": "error",
     "traceback": [
      "\u001b[1;36m  File \u001b[1;32m\"<ipython-input-43-4c8452ea1784>\"\u001b[1;36m, line \u001b[1;32m1\u001b[0m\n\u001b[1;33m    assert not destination.all()?\u001b[0m\n\u001b[1;37m                                ^\u001b[0m\n\u001b[1;31mSyntaxError\u001b[0m\u001b[1;31m:\u001b[0m invalid syntax\n"
     ]
    }
   ],
   "source": [
    "assert not destination.all()?"
   ]
  },
  {
   "cell_type": "code",
   "execution_count": 41,
   "metadata": {},
   "outputs": [
    {
     "data": {
      "text/plain": [
       "\u001b[1;31mSignature:\u001b[0m \u001b[0mnp\u001b[0m\u001b[1;33m.\u001b[0m\u001b[0mall\u001b[0m\u001b[1;33m(\u001b[0m\u001b[0ma\u001b[0m\u001b[1;33m,\u001b[0m \u001b[0maxis\u001b[0m\u001b[1;33m=\u001b[0m\u001b[1;32mNone\u001b[0m\u001b[1;33m,\u001b[0m \u001b[0mout\u001b[0m\u001b[1;33m=\u001b[0m\u001b[1;32mNone\u001b[0m\u001b[1;33m,\u001b[0m \u001b[0mkeepdims\u001b[0m\u001b[1;33m=\u001b[0m\u001b[1;33m<\u001b[0m\u001b[0mno\u001b[0m \u001b[0mvalue\u001b[0m\u001b[1;33m>\u001b[0m\u001b[1;33m)\u001b[0m\u001b[1;33m\u001b[0m\u001b[1;33m\u001b[0m\u001b[0m\n",
       "\u001b[1;31mDocstring:\u001b[0m\n",
       "Test whether all array elements along a given axis evaluate to True.\n",
       "\n",
       "Parameters\n",
       "----------\n",
       "a : array_like\n",
       "    Input array or object that can be converted to an array.\n",
       "axis : None or int or tuple of ints, optional\n",
       "    Axis or axes along which a logical AND reduction is performed.\n",
       "    The default (`axis` = `None`) is to perform a logical AND over all\n",
       "    the dimensions of the input array. `axis` may be negative, in\n",
       "    which case it counts from the last to the first axis.\n",
       "\n",
       "    .. versionadded:: 1.7.0\n",
       "\n",
       "    If this is a tuple of ints, a reduction is performed on multiple\n",
       "    axes, instead of a single axis or all the axes as before.\n",
       "out : ndarray, optional\n",
       "    Alternate output array in which to place the result.\n",
       "    It must have the same shape as the expected output and its\n",
       "    type is preserved (e.g., if ``dtype(out)`` is float, the result\n",
       "    will consist of 0.0's and 1.0's).  See `doc.ufuncs` (Section\n",
       "    \"Output arguments\") for more details.\n",
       "\n",
       "keepdims : bool, optional\n",
       "    If this is set to True, the axes which are reduced are left\n",
       "    in the result as dimensions with size one. With this option,\n",
       "    the result will broadcast correctly against the input array.\n",
       "\n",
       "    If the default value is passed, then `keepdims` will not be\n",
       "    passed through to the `all` method of sub-classes of\n",
       "    `ndarray`, however any non-default value will be.  If the\n",
       "    sub-class' method does not implement `keepdims` any\n",
       "    exceptions will be raised.\n",
       "\n",
       "Returns\n",
       "-------\n",
       "all : ndarray, bool\n",
       "    A new boolean or array is returned unless `out` is specified,\n",
       "    in which case a reference to `out` is returned.\n",
       "\n",
       "See Also\n",
       "--------\n",
       "ndarray.all : equivalent method\n",
       "\n",
       "any : Test whether any element along a given axis evaluates to True.\n",
       "\n",
       "Notes\n",
       "-----\n",
       "Not a Number (NaN), positive infinity and negative infinity\n",
       "evaluate to `True` because these are not equal to zero.\n",
       "\n",
       "Examples\n",
       "--------\n",
       ">>> np.all([[True,False],[True,True]])\n",
       "False\n",
       "\n",
       ">>> np.all([[True,False],[True,True]], axis=0)\n",
       "array([ True, False])\n",
       "\n",
       ">>> np.all([-1, 4, 5])\n",
       "True\n",
       "\n",
       ">>> np.all([1.0, np.nan])\n",
       "True\n",
       "\n",
       ">>> o=np.array([False])\n",
       ">>> z=np.all([-1, 4, 5], out=o)\n",
       ">>> id(z), id(o), z                             # doctest: +SKIP\n",
       "(28293632, 28293632, array([ True]))\n",
       "\u001b[1;31mFile:\u001b[0m      c:\\users\\parkernath32\\appdata\\local\\continuum\\anaconda3\\lib\\site-packages\\numpy\\core\\fromnumeric.py\n",
       "\u001b[1;31mType:\u001b[0m      function\n"
      ]
     },
     "metadata": {},
     "output_type": "display_data"
    }
   ],
   "source": [
    "np.all?"
   ]
  },
  {
   "cell_type": "code",
   "execution_count": null,
   "metadata": {},
   "outputs": [],
   "source": []
  }
 ],
 "metadata": {
  "kernelspec": {
   "display_name": "Python 3",
   "language": "python",
   "name": "python3"
  },
  "language_info": {
   "codemirror_mode": {
    "name": "ipython",
    "version": 3
   },
   "file_extension": ".py",
   "mimetype": "text/x-python",
   "name": "python",
   "nbconvert_exporter": "python",
   "pygments_lexer": "ipython3",
   "version": "3.7.4"
  }
 },
 "nbformat": 4,
 "nbformat_minor": 4
}
